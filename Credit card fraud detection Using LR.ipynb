{
 "cells": [
  {
   "cell_type": "markdown",
   "id": "44fadb7d",
   "metadata": {
    "papermill": {
     "duration": 0.040161,
     "end_time": "2022-01-11T18:08:44.785796",
     "exception": false,
     "start_time": "2022-01-11T18:08:44.745635",
     "status": "completed"
    },
    "tags": []
   },
   "source": [
    "**Importing Libraries**"
   ]
  },
  {
   "cell_type": "code",
   "execution_count": 1,
   "id": "afaf1348",
   "metadata": {
    "_cell_guid": "b1076dfc-b9ad-4769-8c92-a6c4dae69d19",
    "_uuid": "8f2839f25d086af736a60e9eeb907d3b93b6e0e5",
    "execution": {
     "iopub.execute_input": "2022-01-11T18:08:44.873690Z",
     "iopub.status.busy": "2022-01-11T18:08:44.871688Z",
     "iopub.status.idle": "2022-01-11T18:08:46.065652Z",
     "shell.execute_reply": "2022-01-11T18:08:46.064496Z",
     "shell.execute_reply.started": "2022-01-11T18:03:34.344078Z"
    },
    "papermill": {
     "duration": 1.23962,
     "end_time": "2022-01-11T18:08:46.065829",
     "exception": false,
     "start_time": "2022-01-11T18:08:44.826209",
     "status": "completed"
    },
    "tags": []
   },
   "outputs": [],
   "source": [
    "import numpy as np\n",
    "import pandas as pd\n",
    "from sklearn.model_selection import train_test_split\n",
    "from sklearn.linear_model import LogisticRegression\n",
    "from sklearn.metrics import accuracy_score"
   ]
  },
  {
   "cell_type": "markdown",
   "id": "9c5e3053",
   "metadata": {
    "papermill": {
     "duration": 0.040123,
     "end_time": "2022-01-11T18:08:46.147199",
     "exception": false,
     "start_time": "2022-01-11T18:08:46.107076",
     "status": "completed"
    },
    "tags": []
   },
   "source": [
    "**Loading the dataset to a Pandas DataFrame**"
   ]
  },
  {
   "cell_type": "code",
   "execution_count": 2,
   "id": "5758717d",
   "metadata": {
    "execution": {
     "iopub.execute_input": "2022-01-11T18:08:46.231595Z",
     "iopub.status.busy": "2022-01-11T18:08:46.230931Z",
     "iopub.status.idle": "2022-01-11T18:08:50.560902Z",
     "shell.execute_reply": "2022-01-11T18:08:50.561445Z",
     "shell.execute_reply.started": "2022-01-11T18:03:34.349757Z"
    },
    "papermill": {
     "duration": 4.374242,
     "end_time": "2022-01-11T18:08:50.561674",
     "exception": false,
     "start_time": "2022-01-11T18:08:46.187432",
     "status": "completed"
    },
    "tags": []
   },
   "outputs": [],
   "source": [
    "credit_card_data = pd.read_csv('../input/creditcardfraud/creditcard.csv')"
   ]
  },
  {
   "cell_type": "markdown",
   "id": "78d01b6c",
   "metadata": {
    "papermill": {
     "duration": 0.041461,
     "end_time": "2022-01-11T18:08:50.644159",
     "exception": false,
     "start_time": "2022-01-11T18:08:50.602698",
     "status": "completed"
    },
    "tags": []
   },
   "source": [
    "**First 5 Rows of the dataset**"
   ]
  },
  {
   "cell_type": "code",
   "execution_count": 3,
   "id": "36843123",
   "metadata": {
    "execution": {
     "iopub.execute_input": "2022-01-11T18:08:50.729488Z",
     "iopub.status.busy": "2022-01-11T18:08:50.728781Z",
     "iopub.status.idle": "2022-01-11T18:08:50.766524Z",
     "shell.execute_reply": "2022-01-11T18:08:50.765821Z",
     "shell.execute_reply.started": "2022-01-11T18:03:36.517065Z"
    },
    "papermill": {
     "duration": 0.081875,
     "end_time": "2022-01-11T18:08:50.766671",
     "exception": false,
     "start_time": "2022-01-11T18:08:50.684796",
     "status": "completed"
    },
    "tags": []
   },
   "outputs": [
    {
     "data": {
      "text/html": [
       "<div>\n",
       "<style scoped>\n",
       "    .dataframe tbody tr th:only-of-type {\n",
       "        vertical-align: middle;\n",
       "    }\n",
       "\n",
       "    .dataframe tbody tr th {\n",
       "        vertical-align: top;\n",
       "    }\n",
       "\n",
       "    .dataframe thead th {\n",
       "        text-align: right;\n",
       "    }\n",
       "</style>\n",
       "<table border=\"1\" class=\"dataframe\">\n",
       "  <thead>\n",
       "    <tr style=\"text-align: right;\">\n",
       "      <th></th>\n",
       "      <th>Time</th>\n",
       "      <th>V1</th>\n",
       "      <th>V2</th>\n",
       "      <th>V3</th>\n",
       "      <th>V4</th>\n",
       "      <th>V5</th>\n",
       "      <th>V6</th>\n",
       "      <th>V7</th>\n",
       "      <th>V8</th>\n",
       "      <th>V9</th>\n",
       "      <th>...</th>\n",
       "      <th>V21</th>\n",
       "      <th>V22</th>\n",
       "      <th>V23</th>\n",
       "      <th>V24</th>\n",
       "      <th>V25</th>\n",
       "      <th>V26</th>\n",
       "      <th>V27</th>\n",
       "      <th>V28</th>\n",
       "      <th>Amount</th>\n",
       "      <th>Class</th>\n",
       "    </tr>\n",
       "  </thead>\n",
       "  <tbody>\n",
       "    <tr>\n",
       "      <th>0</th>\n",
       "      <td>0.0</td>\n",
       "      <td>-1.359807</td>\n",
       "      <td>-0.072781</td>\n",
       "      <td>2.536347</td>\n",
       "      <td>1.378155</td>\n",
       "      <td>-0.338321</td>\n",
       "      <td>0.462388</td>\n",
       "      <td>0.239599</td>\n",
       "      <td>0.098698</td>\n",
       "      <td>0.363787</td>\n",
       "      <td>...</td>\n",
       "      <td>-0.018307</td>\n",
       "      <td>0.277838</td>\n",
       "      <td>-0.110474</td>\n",
       "      <td>0.066928</td>\n",
       "      <td>0.128539</td>\n",
       "      <td>-0.189115</td>\n",
       "      <td>0.133558</td>\n",
       "      <td>-0.021053</td>\n",
       "      <td>149.62</td>\n",
       "      <td>0</td>\n",
       "    </tr>\n",
       "    <tr>\n",
       "      <th>1</th>\n",
       "      <td>0.0</td>\n",
       "      <td>1.191857</td>\n",
       "      <td>0.266151</td>\n",
       "      <td>0.166480</td>\n",
       "      <td>0.448154</td>\n",
       "      <td>0.060018</td>\n",
       "      <td>-0.082361</td>\n",
       "      <td>-0.078803</td>\n",
       "      <td>0.085102</td>\n",
       "      <td>-0.255425</td>\n",
       "      <td>...</td>\n",
       "      <td>-0.225775</td>\n",
       "      <td>-0.638672</td>\n",
       "      <td>0.101288</td>\n",
       "      <td>-0.339846</td>\n",
       "      <td>0.167170</td>\n",
       "      <td>0.125895</td>\n",
       "      <td>-0.008983</td>\n",
       "      <td>0.014724</td>\n",
       "      <td>2.69</td>\n",
       "      <td>0</td>\n",
       "    </tr>\n",
       "    <tr>\n",
       "      <th>2</th>\n",
       "      <td>1.0</td>\n",
       "      <td>-1.358354</td>\n",
       "      <td>-1.340163</td>\n",
       "      <td>1.773209</td>\n",
       "      <td>0.379780</td>\n",
       "      <td>-0.503198</td>\n",
       "      <td>1.800499</td>\n",
       "      <td>0.791461</td>\n",
       "      <td>0.247676</td>\n",
       "      <td>-1.514654</td>\n",
       "      <td>...</td>\n",
       "      <td>0.247998</td>\n",
       "      <td>0.771679</td>\n",
       "      <td>0.909412</td>\n",
       "      <td>-0.689281</td>\n",
       "      <td>-0.327642</td>\n",
       "      <td>-0.139097</td>\n",
       "      <td>-0.055353</td>\n",
       "      <td>-0.059752</td>\n",
       "      <td>378.66</td>\n",
       "      <td>0</td>\n",
       "    </tr>\n",
       "    <tr>\n",
       "      <th>3</th>\n",
       "      <td>1.0</td>\n",
       "      <td>-0.966272</td>\n",
       "      <td>-0.185226</td>\n",
       "      <td>1.792993</td>\n",
       "      <td>-0.863291</td>\n",
       "      <td>-0.010309</td>\n",
       "      <td>1.247203</td>\n",
       "      <td>0.237609</td>\n",
       "      <td>0.377436</td>\n",
       "      <td>-1.387024</td>\n",
       "      <td>...</td>\n",
       "      <td>-0.108300</td>\n",
       "      <td>0.005274</td>\n",
       "      <td>-0.190321</td>\n",
       "      <td>-1.175575</td>\n",
       "      <td>0.647376</td>\n",
       "      <td>-0.221929</td>\n",
       "      <td>0.062723</td>\n",
       "      <td>0.061458</td>\n",
       "      <td>123.50</td>\n",
       "      <td>0</td>\n",
       "    </tr>\n",
       "    <tr>\n",
       "      <th>4</th>\n",
       "      <td>2.0</td>\n",
       "      <td>-1.158233</td>\n",
       "      <td>0.877737</td>\n",
       "      <td>1.548718</td>\n",
       "      <td>0.403034</td>\n",
       "      <td>-0.407193</td>\n",
       "      <td>0.095921</td>\n",
       "      <td>0.592941</td>\n",
       "      <td>-0.270533</td>\n",
       "      <td>0.817739</td>\n",
       "      <td>...</td>\n",
       "      <td>-0.009431</td>\n",
       "      <td>0.798278</td>\n",
       "      <td>-0.137458</td>\n",
       "      <td>0.141267</td>\n",
       "      <td>-0.206010</td>\n",
       "      <td>0.502292</td>\n",
       "      <td>0.219422</td>\n",
       "      <td>0.215153</td>\n",
       "      <td>69.99</td>\n",
       "      <td>0</td>\n",
       "    </tr>\n",
       "  </tbody>\n",
       "</table>\n",
       "<p>5 rows × 31 columns</p>\n",
       "</div>"
      ],
      "text/plain": [
       "   Time        V1        V2        V3        V4        V5        V6        V7  \\\n",
       "0   0.0 -1.359807 -0.072781  2.536347  1.378155 -0.338321  0.462388  0.239599   \n",
       "1   0.0  1.191857  0.266151  0.166480  0.448154  0.060018 -0.082361 -0.078803   \n",
       "2   1.0 -1.358354 -1.340163  1.773209  0.379780 -0.503198  1.800499  0.791461   \n",
       "3   1.0 -0.966272 -0.185226  1.792993 -0.863291 -0.010309  1.247203  0.237609   \n",
       "4   2.0 -1.158233  0.877737  1.548718  0.403034 -0.407193  0.095921  0.592941   \n",
       "\n",
       "         V8        V9  ...       V21       V22       V23       V24       V25  \\\n",
       "0  0.098698  0.363787  ... -0.018307  0.277838 -0.110474  0.066928  0.128539   \n",
       "1  0.085102 -0.255425  ... -0.225775 -0.638672  0.101288 -0.339846  0.167170   \n",
       "2  0.247676 -1.514654  ...  0.247998  0.771679  0.909412 -0.689281 -0.327642   \n",
       "3  0.377436 -1.387024  ... -0.108300  0.005274 -0.190321 -1.175575  0.647376   \n",
       "4 -0.270533  0.817739  ... -0.009431  0.798278 -0.137458  0.141267 -0.206010   \n",
       "\n",
       "        V26       V27       V28  Amount  Class  \n",
       "0 -0.189115  0.133558 -0.021053  149.62      0  \n",
       "1  0.125895 -0.008983  0.014724    2.69      0  \n",
       "2 -0.139097 -0.055353 -0.059752  378.66      0  \n",
       "3 -0.221929  0.062723  0.061458  123.50      0  \n",
       "4  0.502292  0.219422  0.215153   69.99      0  \n",
       "\n",
       "[5 rows x 31 columns]"
      ]
     },
     "execution_count": 3,
     "metadata": {},
     "output_type": "execute_result"
    }
   ],
   "source": [
    "credit_card_data.head()"
   ]
  },
  {
   "cell_type": "code",
   "execution_count": 4,
   "id": "5e6f8e01",
   "metadata": {
    "execution": {
     "iopub.execute_input": "2022-01-11T18:08:51.017709Z",
     "iopub.status.busy": "2022-01-11T18:08:51.017051Z",
     "iopub.status.idle": "2022-01-11T18:08:51.043613Z",
     "shell.execute_reply": "2022-01-11T18:08:51.044157Z",
     "shell.execute_reply.started": "2022-01-11T18:03:36.541390Z"
    },
    "papermill": {
     "duration": 0.071233,
     "end_time": "2022-01-11T18:08:51.044350",
     "exception": false,
     "start_time": "2022-01-11T18:08:50.973117",
     "status": "completed"
    },
    "tags": []
   },
   "outputs": [
    {
     "data": {
      "text/html": [
       "<div>\n",
       "<style scoped>\n",
       "    .dataframe tbody tr th:only-of-type {\n",
       "        vertical-align: middle;\n",
       "    }\n",
       "\n",
       "    .dataframe tbody tr th {\n",
       "        vertical-align: top;\n",
       "    }\n",
       "\n",
       "    .dataframe thead th {\n",
       "        text-align: right;\n",
       "    }\n",
       "</style>\n",
       "<table border=\"1\" class=\"dataframe\">\n",
       "  <thead>\n",
       "    <tr style=\"text-align: right;\">\n",
       "      <th></th>\n",
       "      <th>Time</th>\n",
       "      <th>V1</th>\n",
       "      <th>V2</th>\n",
       "      <th>V3</th>\n",
       "      <th>V4</th>\n",
       "      <th>V5</th>\n",
       "      <th>V6</th>\n",
       "      <th>V7</th>\n",
       "      <th>V8</th>\n",
       "      <th>V9</th>\n",
       "      <th>...</th>\n",
       "      <th>V21</th>\n",
       "      <th>V22</th>\n",
       "      <th>V23</th>\n",
       "      <th>V24</th>\n",
       "      <th>V25</th>\n",
       "      <th>V26</th>\n",
       "      <th>V27</th>\n",
       "      <th>V28</th>\n",
       "      <th>Amount</th>\n",
       "      <th>Class</th>\n",
       "    </tr>\n",
       "  </thead>\n",
       "  <tbody>\n",
       "    <tr>\n",
       "      <th>284802</th>\n",
       "      <td>172786.0</td>\n",
       "      <td>-11.881118</td>\n",
       "      <td>10.071785</td>\n",
       "      <td>-9.834783</td>\n",
       "      <td>-2.066656</td>\n",
       "      <td>-5.364473</td>\n",
       "      <td>-2.606837</td>\n",
       "      <td>-4.918215</td>\n",
       "      <td>7.305334</td>\n",
       "      <td>1.914428</td>\n",
       "      <td>...</td>\n",
       "      <td>0.213454</td>\n",
       "      <td>0.111864</td>\n",
       "      <td>1.014480</td>\n",
       "      <td>-0.509348</td>\n",
       "      <td>1.436807</td>\n",
       "      <td>0.250034</td>\n",
       "      <td>0.943651</td>\n",
       "      <td>0.823731</td>\n",
       "      <td>0.77</td>\n",
       "      <td>0</td>\n",
       "    </tr>\n",
       "    <tr>\n",
       "      <th>284803</th>\n",
       "      <td>172787.0</td>\n",
       "      <td>-0.732789</td>\n",
       "      <td>-0.055080</td>\n",
       "      <td>2.035030</td>\n",
       "      <td>-0.738589</td>\n",
       "      <td>0.868229</td>\n",
       "      <td>1.058415</td>\n",
       "      <td>0.024330</td>\n",
       "      <td>0.294869</td>\n",
       "      <td>0.584800</td>\n",
       "      <td>...</td>\n",
       "      <td>0.214205</td>\n",
       "      <td>0.924384</td>\n",
       "      <td>0.012463</td>\n",
       "      <td>-1.016226</td>\n",
       "      <td>-0.606624</td>\n",
       "      <td>-0.395255</td>\n",
       "      <td>0.068472</td>\n",
       "      <td>-0.053527</td>\n",
       "      <td>24.79</td>\n",
       "      <td>0</td>\n",
       "    </tr>\n",
       "    <tr>\n",
       "      <th>284804</th>\n",
       "      <td>172788.0</td>\n",
       "      <td>1.919565</td>\n",
       "      <td>-0.301254</td>\n",
       "      <td>-3.249640</td>\n",
       "      <td>-0.557828</td>\n",
       "      <td>2.630515</td>\n",
       "      <td>3.031260</td>\n",
       "      <td>-0.296827</td>\n",
       "      <td>0.708417</td>\n",
       "      <td>0.432454</td>\n",
       "      <td>...</td>\n",
       "      <td>0.232045</td>\n",
       "      <td>0.578229</td>\n",
       "      <td>-0.037501</td>\n",
       "      <td>0.640134</td>\n",
       "      <td>0.265745</td>\n",
       "      <td>-0.087371</td>\n",
       "      <td>0.004455</td>\n",
       "      <td>-0.026561</td>\n",
       "      <td>67.88</td>\n",
       "      <td>0</td>\n",
       "    </tr>\n",
       "    <tr>\n",
       "      <th>284805</th>\n",
       "      <td>172788.0</td>\n",
       "      <td>-0.240440</td>\n",
       "      <td>0.530483</td>\n",
       "      <td>0.702510</td>\n",
       "      <td>0.689799</td>\n",
       "      <td>-0.377961</td>\n",
       "      <td>0.623708</td>\n",
       "      <td>-0.686180</td>\n",
       "      <td>0.679145</td>\n",
       "      <td>0.392087</td>\n",
       "      <td>...</td>\n",
       "      <td>0.265245</td>\n",
       "      <td>0.800049</td>\n",
       "      <td>-0.163298</td>\n",
       "      <td>0.123205</td>\n",
       "      <td>-0.569159</td>\n",
       "      <td>0.546668</td>\n",
       "      <td>0.108821</td>\n",
       "      <td>0.104533</td>\n",
       "      <td>10.00</td>\n",
       "      <td>0</td>\n",
       "    </tr>\n",
       "    <tr>\n",
       "      <th>284806</th>\n",
       "      <td>172792.0</td>\n",
       "      <td>-0.533413</td>\n",
       "      <td>-0.189733</td>\n",
       "      <td>0.703337</td>\n",
       "      <td>-0.506271</td>\n",
       "      <td>-0.012546</td>\n",
       "      <td>-0.649617</td>\n",
       "      <td>1.577006</td>\n",
       "      <td>-0.414650</td>\n",
       "      <td>0.486180</td>\n",
       "      <td>...</td>\n",
       "      <td>0.261057</td>\n",
       "      <td>0.643078</td>\n",
       "      <td>0.376777</td>\n",
       "      <td>0.008797</td>\n",
       "      <td>-0.473649</td>\n",
       "      <td>-0.818267</td>\n",
       "      <td>-0.002415</td>\n",
       "      <td>0.013649</td>\n",
       "      <td>217.00</td>\n",
       "      <td>0</td>\n",
       "    </tr>\n",
       "  </tbody>\n",
       "</table>\n",
       "<p>5 rows × 31 columns</p>\n",
       "</div>"
      ],
      "text/plain": [
       "            Time         V1         V2        V3        V4        V5  \\\n",
       "284802  172786.0 -11.881118  10.071785 -9.834783 -2.066656 -5.364473   \n",
       "284803  172787.0  -0.732789  -0.055080  2.035030 -0.738589  0.868229   \n",
       "284804  172788.0   1.919565  -0.301254 -3.249640 -0.557828  2.630515   \n",
       "284805  172788.0  -0.240440   0.530483  0.702510  0.689799 -0.377961   \n",
       "284806  172792.0  -0.533413  -0.189733  0.703337 -0.506271 -0.012546   \n",
       "\n",
       "              V6        V7        V8        V9  ...       V21       V22  \\\n",
       "284802 -2.606837 -4.918215  7.305334  1.914428  ...  0.213454  0.111864   \n",
       "284803  1.058415  0.024330  0.294869  0.584800  ...  0.214205  0.924384   \n",
       "284804  3.031260 -0.296827  0.708417  0.432454  ...  0.232045  0.578229   \n",
       "284805  0.623708 -0.686180  0.679145  0.392087  ...  0.265245  0.800049   \n",
       "284806 -0.649617  1.577006 -0.414650  0.486180  ...  0.261057  0.643078   \n",
       "\n",
       "             V23       V24       V25       V26       V27       V28  Amount  \\\n",
       "284802  1.014480 -0.509348  1.436807  0.250034  0.943651  0.823731    0.77   \n",
       "284803  0.012463 -1.016226 -0.606624 -0.395255  0.068472 -0.053527   24.79   \n",
       "284804 -0.037501  0.640134  0.265745 -0.087371  0.004455 -0.026561   67.88   \n",
       "284805 -0.163298  0.123205 -0.569159  0.546668  0.108821  0.104533   10.00   \n",
       "284806  0.376777  0.008797 -0.473649 -0.818267 -0.002415  0.013649  217.00   \n",
       "\n",
       "        Class  \n",
       "284802      0  \n",
       "284803      0  \n",
       "284804      0  \n",
       "284805      0  \n",
       "284806      0  \n",
       "\n",
       "[5 rows x 31 columns]"
      ]
     },
     "execution_count": 4,
     "metadata": {},
     "output_type": "execute_result"
    }
   ],
   "source": [
    "credit_card_data.tail()"
   ]
  },
  {
   "cell_type": "markdown",
   "id": "82d8fc58",
   "metadata": {
    "papermill": {
     "duration": 0.042067,
     "end_time": "2022-01-11T18:08:51.213914",
     "exception": false,
     "start_time": "2022-01-11T18:08:51.171847",
     "status": "completed"
    },
    "tags": []
   },
   "source": [
    "**Datatype of each column**"
   ]
  },
  {
   "cell_type": "code",
   "execution_count": 5,
   "id": "b3ae1b8a",
   "metadata": {
    "execution": {
     "iopub.execute_input": "2022-01-11T18:08:51.306137Z",
     "iopub.status.busy": "2022-01-11T18:08:51.305457Z",
     "iopub.status.idle": "2022-01-11T18:08:51.349405Z",
     "shell.execute_reply": "2022-01-11T18:08:51.348619Z",
     "shell.execute_reply.started": "2022-01-11T18:03:36.569439Z"
    },
    "papermill": {
     "duration": 0.093214,
     "end_time": "2022-01-11T18:08:51.349553",
     "exception": false,
     "start_time": "2022-01-11T18:08:51.256339",
     "status": "completed"
    },
    "tags": []
   },
   "outputs": [
    {
     "name": "stdout",
     "output_type": "stream",
     "text": [
      "<class 'pandas.core.frame.DataFrame'>\n",
      "RangeIndex: 284807 entries, 0 to 284806\n",
      "Data columns (total 31 columns):\n",
      " #   Column  Non-Null Count   Dtype  \n",
      "---  ------  --------------   -----  \n",
      " 0   Time    284807 non-null  float64\n",
      " 1   V1      284807 non-null  float64\n",
      " 2   V2      284807 non-null  float64\n",
      " 3   V3      284807 non-null  float64\n",
      " 4   V4      284807 non-null  float64\n",
      " 5   V5      284807 non-null  float64\n",
      " 6   V6      284807 non-null  float64\n",
      " 7   V7      284807 non-null  float64\n",
      " 8   V8      284807 non-null  float64\n",
      " 9   V9      284807 non-null  float64\n",
      " 10  V10     284807 non-null  float64\n",
      " 11  V11     284807 non-null  float64\n",
      " 12  V12     284807 non-null  float64\n",
      " 13  V13     284807 non-null  float64\n",
      " 14  V14     284807 non-null  float64\n",
      " 15  V15     284807 non-null  float64\n",
      " 16  V16     284807 non-null  float64\n",
      " 17  V17     284807 non-null  float64\n",
      " 18  V18     284807 non-null  float64\n",
      " 19  V19     284807 non-null  float64\n",
      " 20  V20     284807 non-null  float64\n",
      " 21  V21     284807 non-null  float64\n",
      " 22  V22     284807 non-null  float64\n",
      " 23  V23     284807 non-null  float64\n",
      " 24  V24     284807 non-null  float64\n",
      " 25  V25     284807 non-null  float64\n",
      " 26  V26     284807 non-null  float64\n",
      " 27  V27     284807 non-null  float64\n",
      " 28  V28     284807 non-null  float64\n",
      " 29  Amount  284807 non-null  float64\n",
      " 30  Class   284807 non-null  int64  \n",
      "dtypes: float64(30), int64(1)\n",
      "memory usage: 67.4 MB\n"
     ]
    }
   ],
   "source": [
    "credit_card_data.info()"
   ]
  },
  {
   "cell_type": "markdown",
   "id": "3fe2ab73",
   "metadata": {
    "papermill": {
     "duration": 0.04206,
     "end_time": "2022-01-11T18:08:51.434070",
     "exception": false,
     "start_time": "2022-01-11T18:08:51.392010",
     "status": "completed"
    },
    "tags": []
   },
   "source": [
    "Datatype looks good. No need to change here anything"
   ]
  },
  {
   "cell_type": "markdown",
   "id": "85f14e3c",
   "metadata": {
    "papermill": {
     "duration": 0.041842,
     "end_time": "2022-01-11T18:08:51.602952",
     "exception": false,
     "start_time": "2022-01-11T18:08:51.561110",
     "status": "completed"
    },
    "tags": []
   },
   "source": [
    "**Checking the no. of Null Values**"
   ]
  },
  {
   "cell_type": "code",
   "execution_count": 6,
   "id": "c6adb5a3",
   "metadata": {
    "execution": {
     "iopub.execute_input": "2022-01-11T18:08:51.694044Z",
     "iopub.status.busy": "2022-01-11T18:08:51.693391Z",
     "iopub.status.idle": "2022-01-11T18:08:51.722582Z",
     "shell.execute_reply": "2022-01-11T18:08:51.721894Z",
     "shell.execute_reply.started": "2022-01-11T18:03:36.609642Z"
    },
    "papermill": {
     "duration": 0.077018,
     "end_time": "2022-01-11T18:08:51.722723",
     "exception": false,
     "start_time": "2022-01-11T18:08:51.645705",
     "status": "completed"
    },
    "tags": []
   },
   "outputs": [
    {
     "data": {
      "text/plain": [
       "Time      0\n",
       "V1        0\n",
       "V2        0\n",
       "V3        0\n",
       "V4        0\n",
       "V5        0\n",
       "V6        0\n",
       "V7        0\n",
       "V8        0\n",
       "V9        0\n",
       "V10       0\n",
       "V11       0\n",
       "V12       0\n",
       "V13       0\n",
       "V14       0\n",
       "V15       0\n",
       "V16       0\n",
       "V17       0\n",
       "V18       0\n",
       "V19       0\n",
       "V20       0\n",
       "V21       0\n",
       "V22       0\n",
       "V23       0\n",
       "V24       0\n",
       "V25       0\n",
       "V26       0\n",
       "V27       0\n",
       "V28       0\n",
       "Amount    0\n",
       "Class     0\n",
       "dtype: int64"
      ]
     },
     "execution_count": 6,
     "metadata": {},
     "output_type": "execute_result"
    }
   ],
   "source": [
    "credit_card_data.isnull().sum()"
   ]
  },
  {
   "cell_type": "markdown",
   "id": "e1eab84d",
   "metadata": {
    "papermill": {
     "duration": 0.042708,
     "end_time": "2022-01-11T18:08:51.894735",
     "exception": false,
     "start_time": "2022-01-11T18:08:51.852027",
     "status": "completed"
    },
    "tags": []
   },
   "source": [
    "**Distribution of legit transaction & fraud transaction**"
   ]
  },
  {
   "cell_type": "code",
   "execution_count": 7,
   "id": "f09483e6",
   "metadata": {
    "execution": {
     "iopub.execute_input": "2022-01-11T18:08:51.990901Z",
     "iopub.status.busy": "2022-01-11T18:08:51.990005Z",
     "iopub.status.idle": "2022-01-11T18:08:51.994643Z",
     "shell.execute_reply": "2022-01-11T18:08:51.994120Z",
     "shell.execute_reply.started": "2022-01-11T18:03:36.636507Z"
    },
    "papermill": {
     "duration": 0.056206,
     "end_time": "2022-01-11T18:08:51.994783",
     "exception": false,
     "start_time": "2022-01-11T18:08:51.938577",
     "status": "completed"
    },
    "tags": []
   },
   "outputs": [
    {
     "data": {
      "text/plain": [
       "0    284315\n",
       "1       492\n",
       "Name: Class, dtype: int64"
      ]
     },
     "execution_count": 7,
     "metadata": {},
     "output_type": "execute_result"
    }
   ],
   "source": [
    "credit_card_data['Class'].value_counts()"
   ]
  },
  {
   "cell_type": "markdown",
   "id": "6685de19",
   "metadata": {
    "papermill": {
     "duration": 0.043594,
     "end_time": "2022-01-11T18:08:52.169102",
     "exception": false,
     "start_time": "2022-01-11T18:08:52.125508",
     "status": "completed"
    },
    "tags": []
   },
   "source": [
    "**Seperating data for analysis**"
   ]
  },
  {
   "cell_type": "code",
   "execution_count": 8,
   "id": "b3863fe6",
   "metadata": {
    "execution": {
     "iopub.execute_input": "2022-01-11T18:08:52.263087Z",
     "iopub.status.busy": "2022-01-11T18:08:52.261965Z",
     "iopub.status.idle": "2022-01-11T18:08:52.325617Z",
     "shell.execute_reply": "2022-01-11T18:08:52.324970Z",
     "shell.execute_reply.started": "2022-01-11T18:03:36.647142Z"
    },
    "papermill": {
     "duration": 0.113164,
     "end_time": "2022-01-11T18:08:52.325760",
     "exception": false,
     "start_time": "2022-01-11T18:08:52.212596",
     "status": "completed"
    },
    "tags": []
   },
   "outputs": [],
   "source": [
    "legit = credit_card_data[credit_card_data.Class == 0]\n",
    "fraud = credit_card_data[credit_card_data.Class == 1]"
   ]
  },
  {
   "cell_type": "code",
   "execution_count": 9,
   "id": "cba5c5df",
   "metadata": {
    "execution": {
     "iopub.execute_input": "2022-01-11T18:08:52.421828Z",
     "iopub.status.busy": "2022-01-11T18:08:52.421111Z",
     "iopub.status.idle": "2022-01-11T18:08:52.426091Z",
     "shell.execute_reply": "2022-01-11T18:08:52.426715Z",
     "shell.execute_reply.started": "2022-01-11T18:03:36.702053Z"
    },
    "papermill": {
     "duration": 0.058144,
     "end_time": "2022-01-11T18:08:52.426882",
     "exception": false,
     "start_time": "2022-01-11T18:08:52.368738",
     "status": "completed"
    },
    "tags": []
   },
   "outputs": [
    {
     "name": "stdout",
     "output_type": "stream",
     "text": [
      "(284315, 31)\n",
      "(492, 31)\n"
     ]
    }
   ],
   "source": [
    "print(legit.shape)\n",
    "print(fraud.shape)"
   ]
  },
  {
   "cell_type": "markdown",
   "id": "9440fc84",
   "metadata": {
    "papermill": {
     "duration": 0.04422,
     "end_time": "2022-01-11T18:08:52.518311",
     "exception": false,
     "start_time": "2022-01-11T18:08:52.474091",
     "status": "completed"
    },
    "tags": []
   },
   "source": [
    "**Statistical measures of data**"
   ]
  },
  {
   "cell_type": "code",
   "execution_count": 10,
   "id": "ca2cfc90",
   "metadata": {
    "execution": {
     "iopub.execute_input": "2022-01-11T18:08:52.608776Z",
     "iopub.status.busy": "2022-01-11T18:08:52.608133Z",
     "iopub.status.idle": "2022-01-11T18:08:52.629393Z",
     "shell.execute_reply": "2022-01-11T18:08:52.629988Z",
     "shell.execute_reply.started": "2022-01-11T18:03:36.708656Z"
    },
    "papermill": {
     "duration": 0.06837,
     "end_time": "2022-01-11T18:08:52.630158",
     "exception": false,
     "start_time": "2022-01-11T18:08:52.561788",
     "status": "completed"
    },
    "tags": []
   },
   "outputs": [
    {
     "data": {
      "text/plain": [
       "count    284315.000000\n",
       "mean         88.291022\n",
       "std         250.105092\n",
       "min           0.000000\n",
       "25%           5.650000\n",
       "50%          22.000000\n",
       "75%          77.050000\n",
       "max       25691.160000\n",
       "Name: Amount, dtype: float64"
      ]
     },
     "execution_count": 10,
     "metadata": {},
     "output_type": "execute_result"
    }
   ],
   "source": [
    "legit.Amount.describe()"
   ]
  },
  {
   "cell_type": "code",
   "execution_count": 11,
   "id": "91bcb42f",
   "metadata": {
    "execution": {
     "iopub.execute_input": "2022-01-11T18:08:52.721485Z",
     "iopub.status.busy": "2022-01-11T18:08:52.720813Z",
     "iopub.status.idle": "2022-01-11T18:08:52.730884Z",
     "shell.execute_reply": "2022-01-11T18:08:52.730406Z",
     "shell.execute_reply.started": "2022-01-11T18:03:36.735012Z"
    },
    "papermill": {
     "duration": 0.057166,
     "end_time": "2022-01-11T18:08:52.731030",
     "exception": false,
     "start_time": "2022-01-11T18:08:52.673864",
     "status": "completed"
    },
    "tags": []
   },
   "outputs": [
    {
     "data": {
      "text/plain": [
       "count     492.000000\n",
       "mean      122.211321\n",
       "std       256.683288\n",
       "min         0.000000\n",
       "25%         1.000000\n",
       "50%         9.250000\n",
       "75%       105.890000\n",
       "max      2125.870000\n",
       "Name: Amount, dtype: float64"
      ]
     },
     "execution_count": 11,
     "metadata": {},
     "output_type": "execute_result"
    }
   ],
   "source": [
    "fraud.Amount.describe()"
   ]
  },
  {
   "cell_type": "markdown",
   "id": "e1672f94",
   "metadata": {
    "papermill": {
     "duration": 0.046205,
     "end_time": "2022-01-11T18:08:52.908719",
     "exception": false,
     "start_time": "2022-01-11T18:08:52.862514",
     "status": "completed"
    },
    "tags": []
   },
   "source": [
    "**Compare values for both transaction**"
   ]
  },
  {
   "cell_type": "code",
   "execution_count": 12,
   "id": "9e507444",
   "metadata": {
    "execution": {
     "iopub.execute_input": "2022-01-11T18:08:53.051378Z",
     "iopub.status.busy": "2022-01-11T18:08:53.050685Z",
     "iopub.status.idle": "2022-01-11T18:08:53.167696Z",
     "shell.execute_reply": "2022-01-11T18:08:53.168241Z",
     "shell.execute_reply.started": "2022-01-11T18:03:36.746303Z"
    },
    "papermill": {
     "duration": 0.214375,
     "end_time": "2022-01-11T18:08:53.168450",
     "exception": false,
     "start_time": "2022-01-11T18:08:52.954075",
     "status": "completed"
    },
    "tags": []
   },
   "outputs": [
    {
     "data": {
      "text/html": [
       "<div>\n",
       "<style scoped>\n",
       "    .dataframe tbody tr th:only-of-type {\n",
       "        vertical-align: middle;\n",
       "    }\n",
       "\n",
       "    .dataframe tbody tr th {\n",
       "        vertical-align: top;\n",
       "    }\n",
       "\n",
       "    .dataframe thead th {\n",
       "        text-align: right;\n",
       "    }\n",
       "</style>\n",
       "<table border=\"1\" class=\"dataframe\">\n",
       "  <thead>\n",
       "    <tr style=\"text-align: right;\">\n",
       "      <th></th>\n",
       "      <th>Time</th>\n",
       "      <th>V1</th>\n",
       "      <th>V2</th>\n",
       "      <th>V3</th>\n",
       "      <th>V4</th>\n",
       "      <th>V5</th>\n",
       "      <th>V6</th>\n",
       "      <th>V7</th>\n",
       "      <th>V8</th>\n",
       "      <th>V9</th>\n",
       "      <th>...</th>\n",
       "      <th>V20</th>\n",
       "      <th>V21</th>\n",
       "      <th>V22</th>\n",
       "      <th>V23</th>\n",
       "      <th>V24</th>\n",
       "      <th>V25</th>\n",
       "      <th>V26</th>\n",
       "      <th>V27</th>\n",
       "      <th>V28</th>\n",
       "      <th>Amount</th>\n",
       "    </tr>\n",
       "    <tr>\n",
       "      <th>Class</th>\n",
       "      <th></th>\n",
       "      <th></th>\n",
       "      <th></th>\n",
       "      <th></th>\n",
       "      <th></th>\n",
       "      <th></th>\n",
       "      <th></th>\n",
       "      <th></th>\n",
       "      <th></th>\n",
       "      <th></th>\n",
       "      <th></th>\n",
       "      <th></th>\n",
       "      <th></th>\n",
       "      <th></th>\n",
       "      <th></th>\n",
       "      <th></th>\n",
       "      <th></th>\n",
       "      <th></th>\n",
       "      <th></th>\n",
       "      <th></th>\n",
       "      <th></th>\n",
       "    </tr>\n",
       "  </thead>\n",
       "  <tbody>\n",
       "    <tr>\n",
       "      <th>0</th>\n",
       "      <td>94838.202258</td>\n",
       "      <td>0.008258</td>\n",
       "      <td>-0.006271</td>\n",
       "      <td>0.012171</td>\n",
       "      <td>-0.007860</td>\n",
       "      <td>0.005453</td>\n",
       "      <td>0.002419</td>\n",
       "      <td>0.009637</td>\n",
       "      <td>-0.000987</td>\n",
       "      <td>0.004467</td>\n",
       "      <td>...</td>\n",
       "      <td>-0.000644</td>\n",
       "      <td>-0.001235</td>\n",
       "      <td>-0.000024</td>\n",
       "      <td>0.000070</td>\n",
       "      <td>0.000182</td>\n",
       "      <td>-0.000072</td>\n",
       "      <td>-0.000089</td>\n",
       "      <td>-0.000295</td>\n",
       "      <td>-0.000131</td>\n",
       "      <td>88.291022</td>\n",
       "    </tr>\n",
       "    <tr>\n",
       "      <th>1</th>\n",
       "      <td>80746.806911</td>\n",
       "      <td>-4.771948</td>\n",
       "      <td>3.623778</td>\n",
       "      <td>-7.033281</td>\n",
       "      <td>4.542029</td>\n",
       "      <td>-3.151225</td>\n",
       "      <td>-1.397737</td>\n",
       "      <td>-5.568731</td>\n",
       "      <td>0.570636</td>\n",
       "      <td>-2.581123</td>\n",
       "      <td>...</td>\n",
       "      <td>0.372319</td>\n",
       "      <td>0.713588</td>\n",
       "      <td>0.014049</td>\n",
       "      <td>-0.040308</td>\n",
       "      <td>-0.105130</td>\n",
       "      <td>0.041449</td>\n",
       "      <td>0.051648</td>\n",
       "      <td>0.170575</td>\n",
       "      <td>0.075667</td>\n",
       "      <td>122.211321</td>\n",
       "    </tr>\n",
       "  </tbody>\n",
       "</table>\n",
       "<p>2 rows × 30 columns</p>\n",
       "</div>"
      ],
      "text/plain": [
       "               Time        V1        V2        V3        V4        V5  \\\n",
       "Class                                                                   \n",
       "0      94838.202258  0.008258 -0.006271  0.012171 -0.007860  0.005453   \n",
       "1      80746.806911 -4.771948  3.623778 -7.033281  4.542029 -3.151225   \n",
       "\n",
       "             V6        V7        V8        V9  ...       V20       V21  \\\n",
       "Class                                          ...                       \n",
       "0      0.002419  0.009637 -0.000987  0.004467  ... -0.000644 -0.001235   \n",
       "1     -1.397737 -5.568731  0.570636 -2.581123  ...  0.372319  0.713588   \n",
       "\n",
       "            V22       V23       V24       V25       V26       V27       V28  \\\n",
       "Class                                                                         \n",
       "0     -0.000024  0.000070  0.000182 -0.000072 -0.000089 -0.000295 -0.000131   \n",
       "1      0.014049 -0.040308 -0.105130  0.041449  0.051648  0.170575  0.075667   \n",
       "\n",
       "           Amount  \n",
       "Class              \n",
       "0       88.291022  \n",
       "1      122.211321  \n",
       "\n",
       "[2 rows x 30 columns]"
      ]
     },
     "execution_count": 12,
     "metadata": {},
     "output_type": "execute_result"
    }
   ],
   "source": [
    "credit_card_data.groupby('Class').mean()"
   ]
  },
  {
   "cell_type": "markdown",
   "id": "5f2da7ac",
   "metadata": {
    "papermill": {
     "duration": 0.044686,
     "end_time": "2022-01-11T18:08:53.258108",
     "exception": false,
     "start_time": "2022-01-11T18:08:53.213422",
     "status": "completed"
    },
    "tags": []
   },
   "source": [
    "**Under-Sampling the Dataset**"
   ]
  },
  {
   "cell_type": "code",
   "execution_count": 13,
   "id": "f747efc6",
   "metadata": {
    "execution": {
     "iopub.execute_input": "2022-01-11T18:08:53.442508Z",
     "iopub.status.busy": "2022-01-11T18:08:53.441569Z",
     "iopub.status.idle": "2022-01-11T18:08:53.456385Z",
     "shell.execute_reply": "2022-01-11T18:08:53.455764Z",
     "shell.execute_reply.started": "2022-01-11T18:03:36.866784Z"
    },
    "papermill": {
     "duration": 0.06353,
     "end_time": "2022-01-11T18:08:53.456552",
     "exception": false,
     "start_time": "2022-01-11T18:08:53.393022",
     "status": "completed"
    },
    "tags": []
   },
   "outputs": [],
   "source": [
    "\n",
    "\n",
    "legit_sample = legit.sample(n=492)"
   ]
  },
  {
   "cell_type": "markdown",
   "id": "dfa8f00d",
   "metadata": {
    "papermill": {
     "duration": 0.044263,
     "end_time": "2022-01-11T18:08:53.545472",
     "exception": false,
     "start_time": "2022-01-11T18:08:53.501209",
     "status": "completed"
    },
    "tags": []
   },
   "source": [
    "**Merging 2 Dataframes**"
   ]
  },
  {
   "cell_type": "code",
   "execution_count": 14,
   "id": "6de28b73",
   "metadata": {
    "execution": {
     "iopub.execute_input": "2022-01-11T18:08:53.638168Z",
     "iopub.status.busy": "2022-01-11T18:08:53.637528Z",
     "iopub.status.idle": "2022-01-11T18:08:53.642375Z",
     "shell.execute_reply": "2022-01-11T18:08:53.642862Z",
     "shell.execute_reply.started": "2022-01-11T18:03:36.882898Z"
    },
    "papermill": {
     "duration": 0.053017,
     "end_time": "2022-01-11T18:08:53.643054",
     "exception": false,
     "start_time": "2022-01-11T18:08:53.590037",
     "status": "completed"
    },
    "tags": []
   },
   "outputs": [],
   "source": [
    "\n",
    "\n",
    "new_dataset = pd.concat([legit_sample,fraud], axis = 0)"
   ]
  },
  {
   "cell_type": "code",
   "execution_count": 15,
   "id": "ab9836ad",
   "metadata": {
    "execution": {
     "iopub.execute_input": "2022-01-11T18:08:53.736282Z",
     "iopub.status.busy": "2022-01-11T18:08:53.735613Z",
     "iopub.status.idle": "2022-01-11T18:08:53.761241Z",
     "shell.execute_reply": "2022-01-11T18:08:53.760677Z",
     "shell.execute_reply.started": "2022-01-11T18:03:36.889628Z"
    },
    "papermill": {
     "duration": 0.073516,
     "end_time": "2022-01-11T18:08:53.761396",
     "exception": false,
     "start_time": "2022-01-11T18:08:53.687880",
     "status": "completed"
    },
    "tags": []
   },
   "outputs": [
    {
     "data": {
      "text/html": [
       "<div>\n",
       "<style scoped>\n",
       "    .dataframe tbody tr th:only-of-type {\n",
       "        vertical-align: middle;\n",
       "    }\n",
       "\n",
       "    .dataframe tbody tr th {\n",
       "        vertical-align: top;\n",
       "    }\n",
       "\n",
       "    .dataframe thead th {\n",
       "        text-align: right;\n",
       "    }\n",
       "</style>\n",
       "<table border=\"1\" class=\"dataframe\">\n",
       "  <thead>\n",
       "    <tr style=\"text-align: right;\">\n",
       "      <th></th>\n",
       "      <th>Time</th>\n",
       "      <th>V1</th>\n",
       "      <th>V2</th>\n",
       "      <th>V3</th>\n",
       "      <th>V4</th>\n",
       "      <th>V5</th>\n",
       "      <th>V6</th>\n",
       "      <th>V7</th>\n",
       "      <th>V8</th>\n",
       "      <th>V9</th>\n",
       "      <th>...</th>\n",
       "      <th>V21</th>\n",
       "      <th>V22</th>\n",
       "      <th>V23</th>\n",
       "      <th>V24</th>\n",
       "      <th>V25</th>\n",
       "      <th>V26</th>\n",
       "      <th>V27</th>\n",
       "      <th>V28</th>\n",
       "      <th>Amount</th>\n",
       "      <th>Class</th>\n",
       "    </tr>\n",
       "  </thead>\n",
       "  <tbody>\n",
       "    <tr>\n",
       "      <th>210581</th>\n",
       "      <td>138047.0</td>\n",
       "      <td>2.017727</td>\n",
       "      <td>0.017121</td>\n",
       "      <td>-3.413577</td>\n",
       "      <td>0.129556</td>\n",
       "      <td>3.141497</td>\n",
       "      <td>2.988440</td>\n",
       "      <td>0.274226</td>\n",
       "      <td>0.545435</td>\n",
       "      <td>-0.357127</td>\n",
       "      <td>...</td>\n",
       "      <td>0.185227</td>\n",
       "      <td>0.486681</td>\n",
       "      <td>-0.045034</td>\n",
       "      <td>0.713508</td>\n",
       "      <td>0.591599</td>\n",
       "      <td>-0.397269</td>\n",
       "      <td>-0.023108</td>\n",
       "      <td>-0.069086</td>\n",
       "      <td>29.00</td>\n",
       "      <td>0</td>\n",
       "    </tr>\n",
       "    <tr>\n",
       "      <th>143522</th>\n",
       "      <td>85413.0</td>\n",
       "      <td>-0.732291</td>\n",
       "      <td>0.428800</td>\n",
       "      <td>1.352302</td>\n",
       "      <td>1.968162</td>\n",
       "      <td>0.042705</td>\n",
       "      <td>-0.187739</td>\n",
       "      <td>0.372123</td>\n",
       "      <td>0.065935</td>\n",
       "      <td>-0.172564</td>\n",
       "      <td>...</td>\n",
       "      <td>-0.062700</td>\n",
       "      <td>0.248215</td>\n",
       "      <td>0.277902</td>\n",
       "      <td>0.415808</td>\n",
       "      <td>0.128268</td>\n",
       "      <td>-0.099448</td>\n",
       "      <td>0.253580</td>\n",
       "      <td>0.066062</td>\n",
       "      <td>42.46</td>\n",
       "      <td>0</td>\n",
       "    </tr>\n",
       "    <tr>\n",
       "      <th>268921</th>\n",
       "      <td>163447.0</td>\n",
       "      <td>-2.327241</td>\n",
       "      <td>2.668910</td>\n",
       "      <td>-2.099484</td>\n",
       "      <td>-1.626744</td>\n",
       "      <td>0.433479</td>\n",
       "      <td>-1.473417</td>\n",
       "      <td>1.155932</td>\n",
       "      <td>0.230516</td>\n",
       "      <td>1.042926</td>\n",
       "      <td>...</td>\n",
       "      <td>0.002006</td>\n",
       "      <td>0.723414</td>\n",
       "      <td>-0.177009</td>\n",
       "      <td>-0.350705</td>\n",
       "      <td>0.062770</td>\n",
       "      <td>0.076346</td>\n",
       "      <td>0.639344</td>\n",
       "      <td>0.186213</td>\n",
       "      <td>7.69</td>\n",
       "      <td>0</td>\n",
       "    </tr>\n",
       "    <tr>\n",
       "      <th>175756</th>\n",
       "      <td>122475.0</td>\n",
       "      <td>0.006232</td>\n",
       "      <td>0.210789</td>\n",
       "      <td>-0.144016</td>\n",
       "      <td>-1.787978</td>\n",
       "      <td>0.255121</td>\n",
       "      <td>-0.442873</td>\n",
       "      <td>0.325925</td>\n",
       "      <td>-0.030433</td>\n",
       "      <td>-0.854257</td>\n",
       "      <td>...</td>\n",
       "      <td>0.136468</td>\n",
       "      <td>0.422746</td>\n",
       "      <td>-0.004471</td>\n",
       "      <td>0.325957</td>\n",
       "      <td>-0.175310</td>\n",
       "      <td>-0.260637</td>\n",
       "      <td>0.313132</td>\n",
       "      <td>0.151091</td>\n",
       "      <td>51.85</td>\n",
       "      <td>0</td>\n",
       "    </tr>\n",
       "    <tr>\n",
       "      <th>191118</th>\n",
       "      <td>129121.0</td>\n",
       "      <td>-0.053732</td>\n",
       "      <td>0.108751</td>\n",
       "      <td>-0.403769</td>\n",
       "      <td>-1.165569</td>\n",
       "      <td>1.596338</td>\n",
       "      <td>1.549872</td>\n",
       "      <td>0.712659</td>\n",
       "      <td>0.032969</td>\n",
       "      <td>-1.670364</td>\n",
       "      <td>...</td>\n",
       "      <td>-0.207382</td>\n",
       "      <td>0.229729</td>\n",
       "      <td>-0.180769</td>\n",
       "      <td>-0.908495</td>\n",
       "      <td>-0.545441</td>\n",
       "      <td>0.746555</td>\n",
       "      <td>-0.114634</td>\n",
       "      <td>-0.070923</td>\n",
       "      <td>25.00</td>\n",
       "      <td>0</td>\n",
       "    </tr>\n",
       "  </tbody>\n",
       "</table>\n",
       "<p>5 rows × 31 columns</p>\n",
       "</div>"
      ],
      "text/plain": [
       "            Time        V1        V2        V3        V4        V5        V6  \\\n",
       "210581  138047.0  2.017727  0.017121 -3.413577  0.129556  3.141497  2.988440   \n",
       "143522   85413.0 -0.732291  0.428800  1.352302  1.968162  0.042705 -0.187739   \n",
       "268921  163447.0 -2.327241  2.668910 -2.099484 -1.626744  0.433479 -1.473417   \n",
       "175756  122475.0  0.006232  0.210789 -0.144016 -1.787978  0.255121 -0.442873   \n",
       "191118  129121.0 -0.053732  0.108751 -0.403769 -1.165569  1.596338  1.549872   \n",
       "\n",
       "              V7        V8        V9  ...       V21       V22       V23  \\\n",
       "210581  0.274226  0.545435 -0.357127  ...  0.185227  0.486681 -0.045034   \n",
       "143522  0.372123  0.065935 -0.172564  ... -0.062700  0.248215  0.277902   \n",
       "268921  1.155932  0.230516  1.042926  ...  0.002006  0.723414 -0.177009   \n",
       "175756  0.325925 -0.030433 -0.854257  ...  0.136468  0.422746 -0.004471   \n",
       "191118  0.712659  0.032969 -1.670364  ... -0.207382  0.229729 -0.180769   \n",
       "\n",
       "             V24       V25       V26       V27       V28  Amount  Class  \n",
       "210581  0.713508  0.591599 -0.397269 -0.023108 -0.069086   29.00      0  \n",
       "143522  0.415808  0.128268 -0.099448  0.253580  0.066062   42.46      0  \n",
       "268921 -0.350705  0.062770  0.076346  0.639344  0.186213    7.69      0  \n",
       "175756  0.325957 -0.175310 -0.260637  0.313132  0.151091   51.85      0  \n",
       "191118 -0.908495 -0.545441  0.746555 -0.114634 -0.070923   25.00      0  \n",
       "\n",
       "[5 rows x 31 columns]"
      ]
     },
     "execution_count": 15,
     "metadata": {},
     "output_type": "execute_result"
    }
   ],
   "source": [
    "new_dataset.head()"
   ]
  },
  {
   "cell_type": "code",
   "execution_count": 16,
   "id": "970f677e",
   "metadata": {
    "execution": {
     "iopub.execute_input": "2022-01-11T18:08:53.880513Z",
     "iopub.status.busy": "2022-01-11T18:08:53.879765Z",
     "iopub.status.idle": "2022-01-11T18:08:53.882673Z",
     "shell.execute_reply": "2022-01-11T18:08:53.883207Z",
     "shell.execute_reply.started": "2022-01-11T18:03:36.922605Z"
    },
    "papermill": {
     "duration": 0.076461,
     "end_time": "2022-01-11T18:08:53.883429",
     "exception": false,
     "start_time": "2022-01-11T18:08:53.806968",
     "status": "completed"
    },
    "tags": []
   },
   "outputs": [
    {
     "data": {
      "text/html": [
       "<div>\n",
       "<style scoped>\n",
       "    .dataframe tbody tr th:only-of-type {\n",
       "        vertical-align: middle;\n",
       "    }\n",
       "\n",
       "    .dataframe tbody tr th {\n",
       "        vertical-align: top;\n",
       "    }\n",
       "\n",
       "    .dataframe thead th {\n",
       "        text-align: right;\n",
       "    }\n",
       "</style>\n",
       "<table border=\"1\" class=\"dataframe\">\n",
       "  <thead>\n",
       "    <tr style=\"text-align: right;\">\n",
       "      <th></th>\n",
       "      <th>Time</th>\n",
       "      <th>V1</th>\n",
       "      <th>V2</th>\n",
       "      <th>V3</th>\n",
       "      <th>V4</th>\n",
       "      <th>V5</th>\n",
       "      <th>V6</th>\n",
       "      <th>V7</th>\n",
       "      <th>V8</th>\n",
       "      <th>V9</th>\n",
       "      <th>...</th>\n",
       "      <th>V21</th>\n",
       "      <th>V22</th>\n",
       "      <th>V23</th>\n",
       "      <th>V24</th>\n",
       "      <th>V25</th>\n",
       "      <th>V26</th>\n",
       "      <th>V27</th>\n",
       "      <th>V28</th>\n",
       "      <th>Amount</th>\n",
       "      <th>Class</th>\n",
       "    </tr>\n",
       "  </thead>\n",
       "  <tbody>\n",
       "    <tr>\n",
       "      <th>279863</th>\n",
       "      <td>169142.0</td>\n",
       "      <td>-1.927883</td>\n",
       "      <td>1.125653</td>\n",
       "      <td>-4.518331</td>\n",
       "      <td>1.749293</td>\n",
       "      <td>-1.566487</td>\n",
       "      <td>-2.010494</td>\n",
       "      <td>-0.882850</td>\n",
       "      <td>0.697211</td>\n",
       "      <td>-2.064945</td>\n",
       "      <td>...</td>\n",
       "      <td>0.778584</td>\n",
       "      <td>-0.319189</td>\n",
       "      <td>0.639419</td>\n",
       "      <td>-0.294885</td>\n",
       "      <td>0.537503</td>\n",
       "      <td>0.788395</td>\n",
       "      <td>0.292680</td>\n",
       "      <td>0.147968</td>\n",
       "      <td>390.00</td>\n",
       "      <td>1</td>\n",
       "    </tr>\n",
       "    <tr>\n",
       "      <th>280143</th>\n",
       "      <td>169347.0</td>\n",
       "      <td>1.378559</td>\n",
       "      <td>1.289381</td>\n",
       "      <td>-5.004247</td>\n",
       "      <td>1.411850</td>\n",
       "      <td>0.442581</td>\n",
       "      <td>-1.326536</td>\n",
       "      <td>-1.413170</td>\n",
       "      <td>0.248525</td>\n",
       "      <td>-1.127396</td>\n",
       "      <td>...</td>\n",
       "      <td>0.370612</td>\n",
       "      <td>0.028234</td>\n",
       "      <td>-0.145640</td>\n",
       "      <td>-0.081049</td>\n",
       "      <td>0.521875</td>\n",
       "      <td>0.739467</td>\n",
       "      <td>0.389152</td>\n",
       "      <td>0.186637</td>\n",
       "      <td>0.76</td>\n",
       "      <td>1</td>\n",
       "    </tr>\n",
       "    <tr>\n",
       "      <th>280149</th>\n",
       "      <td>169351.0</td>\n",
       "      <td>-0.676143</td>\n",
       "      <td>1.126366</td>\n",
       "      <td>-2.213700</td>\n",
       "      <td>0.468308</td>\n",
       "      <td>-1.120541</td>\n",
       "      <td>-0.003346</td>\n",
       "      <td>-2.234739</td>\n",
       "      <td>1.210158</td>\n",
       "      <td>-0.652250</td>\n",
       "      <td>...</td>\n",
       "      <td>0.751826</td>\n",
       "      <td>0.834108</td>\n",
       "      <td>0.190944</td>\n",
       "      <td>0.032070</td>\n",
       "      <td>-0.739695</td>\n",
       "      <td>0.471111</td>\n",
       "      <td>0.385107</td>\n",
       "      <td>0.194361</td>\n",
       "      <td>77.89</td>\n",
       "      <td>1</td>\n",
       "    </tr>\n",
       "    <tr>\n",
       "      <th>281144</th>\n",
       "      <td>169966.0</td>\n",
       "      <td>-3.113832</td>\n",
       "      <td>0.585864</td>\n",
       "      <td>-5.399730</td>\n",
       "      <td>1.817092</td>\n",
       "      <td>-0.840618</td>\n",
       "      <td>-2.943548</td>\n",
       "      <td>-2.208002</td>\n",
       "      <td>1.058733</td>\n",
       "      <td>-1.632333</td>\n",
       "      <td>...</td>\n",
       "      <td>0.583276</td>\n",
       "      <td>-0.269209</td>\n",
       "      <td>-0.456108</td>\n",
       "      <td>-0.183659</td>\n",
       "      <td>-0.328168</td>\n",
       "      <td>0.606116</td>\n",
       "      <td>0.884876</td>\n",
       "      <td>-0.253700</td>\n",
       "      <td>245.00</td>\n",
       "      <td>1</td>\n",
       "    </tr>\n",
       "    <tr>\n",
       "      <th>281674</th>\n",
       "      <td>170348.0</td>\n",
       "      <td>1.991976</td>\n",
       "      <td>0.158476</td>\n",
       "      <td>-2.583441</td>\n",
       "      <td>0.408670</td>\n",
       "      <td>1.151147</td>\n",
       "      <td>-0.096695</td>\n",
       "      <td>0.223050</td>\n",
       "      <td>-0.068384</td>\n",
       "      <td>0.577829</td>\n",
       "      <td>...</td>\n",
       "      <td>-0.164350</td>\n",
       "      <td>-0.295135</td>\n",
       "      <td>-0.072173</td>\n",
       "      <td>-0.450261</td>\n",
       "      <td>0.313267</td>\n",
       "      <td>-0.289617</td>\n",
       "      <td>0.002988</td>\n",
       "      <td>-0.015309</td>\n",
       "      <td>42.53</td>\n",
       "      <td>1</td>\n",
       "    </tr>\n",
       "  </tbody>\n",
       "</table>\n",
       "<p>5 rows × 31 columns</p>\n",
       "</div>"
      ],
      "text/plain": [
       "            Time        V1        V2        V3        V4        V5        V6  \\\n",
       "279863  169142.0 -1.927883  1.125653 -4.518331  1.749293 -1.566487 -2.010494   \n",
       "280143  169347.0  1.378559  1.289381 -5.004247  1.411850  0.442581 -1.326536   \n",
       "280149  169351.0 -0.676143  1.126366 -2.213700  0.468308 -1.120541 -0.003346   \n",
       "281144  169966.0 -3.113832  0.585864 -5.399730  1.817092 -0.840618 -2.943548   \n",
       "281674  170348.0  1.991976  0.158476 -2.583441  0.408670  1.151147 -0.096695   \n",
       "\n",
       "              V7        V8        V9  ...       V21       V22       V23  \\\n",
       "279863 -0.882850  0.697211 -2.064945  ...  0.778584 -0.319189  0.639419   \n",
       "280143 -1.413170  0.248525 -1.127396  ...  0.370612  0.028234 -0.145640   \n",
       "280149 -2.234739  1.210158 -0.652250  ...  0.751826  0.834108  0.190944   \n",
       "281144 -2.208002  1.058733 -1.632333  ...  0.583276 -0.269209 -0.456108   \n",
       "281674  0.223050 -0.068384  0.577829  ... -0.164350 -0.295135 -0.072173   \n",
       "\n",
       "             V24       V25       V26       V27       V28  Amount  Class  \n",
       "279863 -0.294885  0.537503  0.788395  0.292680  0.147968  390.00      1  \n",
       "280143 -0.081049  0.521875  0.739467  0.389152  0.186637    0.76      1  \n",
       "280149  0.032070 -0.739695  0.471111  0.385107  0.194361   77.89      1  \n",
       "281144 -0.183659 -0.328168  0.606116  0.884876 -0.253700  245.00      1  \n",
       "281674 -0.450261  0.313267 -0.289617  0.002988 -0.015309   42.53      1  \n",
       "\n",
       "[5 rows x 31 columns]"
      ]
     },
     "execution_count": 16,
     "metadata": {},
     "output_type": "execute_result"
    }
   ],
   "source": [
    "new_dataset.tail()"
   ]
  },
  {
   "cell_type": "code",
   "execution_count": 17,
   "id": "1376e02c",
   "metadata": {
    "execution": {
     "iopub.execute_input": "2022-01-11T18:08:53.982132Z",
     "iopub.status.busy": "2022-01-11T18:08:53.981460Z",
     "iopub.status.idle": "2022-01-11T18:08:53.993477Z",
     "shell.execute_reply": "2022-01-11T18:08:53.994172Z",
     "shell.execute_reply.started": "2022-01-11T18:03:36.947978Z"
    },
    "papermill": {
     "duration": 0.063662,
     "end_time": "2022-01-11T18:08:53.994410",
     "exception": false,
     "start_time": "2022-01-11T18:08:53.930748",
     "status": "completed"
    },
    "tags": []
   },
   "outputs": [
    {
     "name": "stdout",
     "output_type": "stream",
     "text": [
      "<class 'pandas.core.frame.DataFrame'>\n",
      "Int64Index: 984 entries, 210581 to 281674\n",
      "Data columns (total 31 columns):\n",
      " #   Column  Non-Null Count  Dtype  \n",
      "---  ------  --------------  -----  \n",
      " 0   Time    984 non-null    float64\n",
      " 1   V1      984 non-null    float64\n",
      " 2   V2      984 non-null    float64\n",
      " 3   V3      984 non-null    float64\n",
      " 4   V4      984 non-null    float64\n",
      " 5   V5      984 non-null    float64\n",
      " 6   V6      984 non-null    float64\n",
      " 7   V7      984 non-null    float64\n",
      " 8   V8      984 non-null    float64\n",
      " 9   V9      984 non-null    float64\n",
      " 10  V10     984 non-null    float64\n",
      " 11  V11     984 non-null    float64\n",
      " 12  V12     984 non-null    float64\n",
      " 13  V13     984 non-null    float64\n",
      " 14  V14     984 non-null    float64\n",
      " 15  V15     984 non-null    float64\n",
      " 16  V16     984 non-null    float64\n",
      " 17  V17     984 non-null    float64\n",
      " 18  V18     984 non-null    float64\n",
      " 19  V19     984 non-null    float64\n",
      " 20  V20     984 non-null    float64\n",
      " 21  V21     984 non-null    float64\n",
      " 22  V22     984 non-null    float64\n",
      " 23  V23     984 non-null    float64\n",
      " 24  V24     984 non-null    float64\n",
      " 25  V25     984 non-null    float64\n",
      " 26  V26     984 non-null    float64\n",
      " 27  V27     984 non-null    float64\n",
      " 28  V28     984 non-null    float64\n",
      " 29  Amount  984 non-null    float64\n",
      " 30  Class   984 non-null    int64  \n",
      "dtypes: float64(30), int64(1)\n",
      "memory usage: 246.0 KB\n"
     ]
    }
   ],
   "source": [
    "new_dataset.info()"
   ]
  },
  {
   "cell_type": "code",
   "execution_count": 18,
   "id": "fb94260f",
   "metadata": {
    "execution": {
     "iopub.execute_input": "2022-01-11T18:08:54.094637Z",
     "iopub.status.busy": "2022-01-11T18:08:54.090685Z",
     "iopub.status.idle": "2022-01-11T18:08:54.098043Z",
     "shell.execute_reply": "2022-01-11T18:08:54.097479Z",
     "shell.execute_reply.started": "2022-01-11T18:03:36.963934Z"
    },
    "papermill": {
     "duration": 0.057185,
     "end_time": "2022-01-11T18:08:54.098200",
     "exception": false,
     "start_time": "2022-01-11T18:08:54.041015",
     "status": "completed"
    },
    "tags": []
   },
   "outputs": [
    {
     "data": {
      "text/plain": [
       "0    492\n",
       "1    492\n",
       "Name: Class, dtype: int64"
      ]
     },
     "execution_count": 18,
     "metadata": {},
     "output_type": "execute_result"
    }
   ],
   "source": [
    "new_dataset.Class.value_counts()"
   ]
  },
  {
   "cell_type": "code",
   "execution_count": 19,
   "id": "19f5694c",
   "metadata": {
    "execution": {
     "iopub.execute_input": "2022-01-11T18:08:54.298514Z",
     "iopub.status.busy": "2022-01-11T18:08:54.297800Z",
     "iopub.status.idle": "2022-01-11T18:08:54.319255Z",
     "shell.execute_reply": "2022-01-11T18:08:54.319770Z",
     "shell.execute_reply.started": "2022-01-11T18:03:36.974202Z"
    },
    "papermill": {
     "duration": 0.07509,
     "end_time": "2022-01-11T18:08:54.319973",
     "exception": false,
     "start_time": "2022-01-11T18:08:54.244883",
     "status": "completed"
    },
    "tags": []
   },
   "outputs": [
    {
     "data": {
      "text/html": [
       "<div>\n",
       "<style scoped>\n",
       "    .dataframe tbody tr th:only-of-type {\n",
       "        vertical-align: middle;\n",
       "    }\n",
       "\n",
       "    .dataframe tbody tr th {\n",
       "        vertical-align: top;\n",
       "    }\n",
       "\n",
       "    .dataframe thead th {\n",
       "        text-align: right;\n",
       "    }\n",
       "</style>\n",
       "<table border=\"1\" class=\"dataframe\">\n",
       "  <thead>\n",
       "    <tr style=\"text-align: right;\">\n",
       "      <th></th>\n",
       "      <th>Time</th>\n",
       "      <th>V1</th>\n",
       "      <th>V2</th>\n",
       "      <th>V3</th>\n",
       "      <th>V4</th>\n",
       "      <th>V5</th>\n",
       "      <th>V6</th>\n",
       "      <th>V7</th>\n",
       "      <th>V8</th>\n",
       "      <th>V9</th>\n",
       "      <th>...</th>\n",
       "      <th>V20</th>\n",
       "      <th>V21</th>\n",
       "      <th>V22</th>\n",
       "      <th>V23</th>\n",
       "      <th>V24</th>\n",
       "      <th>V25</th>\n",
       "      <th>V26</th>\n",
       "      <th>V27</th>\n",
       "      <th>V28</th>\n",
       "      <th>Amount</th>\n",
       "    </tr>\n",
       "    <tr>\n",
       "      <th>Class</th>\n",
       "      <th></th>\n",
       "      <th></th>\n",
       "      <th></th>\n",
       "      <th></th>\n",
       "      <th></th>\n",
       "      <th></th>\n",
       "      <th></th>\n",
       "      <th></th>\n",
       "      <th></th>\n",
       "      <th></th>\n",
       "      <th></th>\n",
       "      <th></th>\n",
       "      <th></th>\n",
       "      <th></th>\n",
       "      <th></th>\n",
       "      <th></th>\n",
       "      <th></th>\n",
       "      <th></th>\n",
       "      <th></th>\n",
       "      <th></th>\n",
       "      <th></th>\n",
       "    </tr>\n",
       "  </thead>\n",
       "  <tbody>\n",
       "    <tr>\n",
       "      <th>0</th>\n",
       "      <td>94054.345528</td>\n",
       "      <td>0.018781</td>\n",
       "      <td>0.014286</td>\n",
       "      <td>0.004270</td>\n",
       "      <td>-0.084592</td>\n",
       "      <td>-0.034146</td>\n",
       "      <td>-0.038298</td>\n",
       "      <td>-0.036529</td>\n",
       "      <td>-0.002851</td>\n",
       "      <td>-0.088862</td>\n",
       "      <td>...</td>\n",
       "      <td>0.016855</td>\n",
       "      <td>0.029248</td>\n",
       "      <td>-0.009402</td>\n",
       "      <td>-0.071507</td>\n",
       "      <td>0.020243</td>\n",
       "      <td>-0.006555</td>\n",
       "      <td>-0.011030</td>\n",
       "      <td>-0.006147</td>\n",
       "      <td>0.001943</td>\n",
       "      <td>94.843069</td>\n",
       "    </tr>\n",
       "    <tr>\n",
       "      <th>1</th>\n",
       "      <td>80746.806911</td>\n",
       "      <td>-4.771948</td>\n",
       "      <td>3.623778</td>\n",
       "      <td>-7.033281</td>\n",
       "      <td>4.542029</td>\n",
       "      <td>-3.151225</td>\n",
       "      <td>-1.397737</td>\n",
       "      <td>-5.568731</td>\n",
       "      <td>0.570636</td>\n",
       "      <td>-2.581123</td>\n",
       "      <td>...</td>\n",
       "      <td>0.372319</td>\n",
       "      <td>0.713588</td>\n",
       "      <td>0.014049</td>\n",
       "      <td>-0.040308</td>\n",
       "      <td>-0.105130</td>\n",
       "      <td>0.041449</td>\n",
       "      <td>0.051648</td>\n",
       "      <td>0.170575</td>\n",
       "      <td>0.075667</td>\n",
       "      <td>122.211321</td>\n",
       "    </tr>\n",
       "  </tbody>\n",
       "</table>\n",
       "<p>2 rows × 30 columns</p>\n",
       "</div>"
      ],
      "text/plain": [
       "               Time        V1        V2        V3        V4        V5  \\\n",
       "Class                                                                   \n",
       "0      94054.345528  0.018781  0.014286  0.004270 -0.084592 -0.034146   \n",
       "1      80746.806911 -4.771948  3.623778 -7.033281  4.542029 -3.151225   \n",
       "\n",
       "             V6        V7        V8        V9  ...       V20       V21  \\\n",
       "Class                                          ...                       \n",
       "0     -0.038298 -0.036529 -0.002851 -0.088862  ...  0.016855  0.029248   \n",
       "1     -1.397737 -5.568731  0.570636 -2.581123  ...  0.372319  0.713588   \n",
       "\n",
       "            V22       V23       V24       V25       V26       V27       V28  \\\n",
       "Class                                                                         \n",
       "0     -0.009402 -0.071507  0.020243 -0.006555 -0.011030 -0.006147  0.001943   \n",
       "1      0.014049 -0.040308 -0.105130  0.041449  0.051648  0.170575  0.075667   \n",
       "\n",
       "           Amount  \n",
       "Class              \n",
       "0       94.843069  \n",
       "1      122.211321  \n",
       "\n",
       "[2 rows x 30 columns]"
      ]
     },
     "execution_count": 19,
     "metadata": {},
     "output_type": "execute_result"
    }
   ],
   "source": [
    "new_dataset.groupby('Class').mean()"
   ]
  },
  {
   "cell_type": "markdown",
   "id": "d5b34c16",
   "metadata": {
    "papermill": {
     "duration": 0.047346,
     "end_time": "2022-01-11T18:08:54.513238",
     "exception": false,
     "start_time": "2022-01-11T18:08:54.465892",
     "status": "completed"
    },
    "tags": []
   },
   "source": [
    "**Splitting the data into Features and Targets**"
   ]
  },
  {
   "cell_type": "code",
   "execution_count": 20,
   "id": "8c6dbf57",
   "metadata": {
    "execution": {
     "iopub.execute_input": "2022-01-11T18:08:54.614948Z",
     "iopub.status.busy": "2022-01-11T18:08:54.614283Z",
     "iopub.status.idle": "2022-01-11T18:08:54.616282Z",
     "shell.execute_reply": "2022-01-11T18:08:54.616758Z",
     "shell.execute_reply.started": "2022-01-11T18:03:37.003243Z"
    },
    "papermill": {
     "duration": 0.05603,
     "end_time": "2022-01-11T18:08:54.616948",
     "exception": false,
     "start_time": "2022-01-11T18:08:54.560918",
     "status": "completed"
    },
    "tags": []
   },
   "outputs": [],
   "source": [
    "X = new_dataset.drop(columns='Class',axis=1)\n",
    "Y = new_dataset['Class']                         "
   ]
  },
  {
   "cell_type": "code",
   "execution_count": 21,
   "id": "13787496",
   "metadata": {
    "execution": {
     "iopub.execute_input": "2022-01-11T18:08:54.726296Z",
     "iopub.status.busy": "2022-01-11T18:08:54.718986Z",
     "iopub.status.idle": "2022-01-11T18:08:54.747888Z",
     "shell.execute_reply": "2022-01-11T18:08:54.748493Z",
     "shell.execute_reply.started": "2022-01-11T18:03:37.010048Z"
    },
    "papermill": {
     "duration": 0.083337,
     "end_time": "2022-01-11T18:08:54.748667",
     "exception": false,
     "start_time": "2022-01-11T18:08:54.665330",
     "status": "completed"
    },
    "tags": []
   },
   "outputs": [
    {
     "data": {
      "text/html": [
       "<div>\n",
       "<style scoped>\n",
       "    .dataframe tbody tr th:only-of-type {\n",
       "        vertical-align: middle;\n",
       "    }\n",
       "\n",
       "    .dataframe tbody tr th {\n",
       "        vertical-align: top;\n",
       "    }\n",
       "\n",
       "    .dataframe thead th {\n",
       "        text-align: right;\n",
       "    }\n",
       "</style>\n",
       "<table border=\"1\" class=\"dataframe\">\n",
       "  <thead>\n",
       "    <tr style=\"text-align: right;\">\n",
       "      <th></th>\n",
       "      <th>Time</th>\n",
       "      <th>V1</th>\n",
       "      <th>V2</th>\n",
       "      <th>V3</th>\n",
       "      <th>V4</th>\n",
       "      <th>V5</th>\n",
       "      <th>V6</th>\n",
       "      <th>V7</th>\n",
       "      <th>V8</th>\n",
       "      <th>V9</th>\n",
       "      <th>...</th>\n",
       "      <th>V20</th>\n",
       "      <th>V21</th>\n",
       "      <th>V22</th>\n",
       "      <th>V23</th>\n",
       "      <th>V24</th>\n",
       "      <th>V25</th>\n",
       "      <th>V26</th>\n",
       "      <th>V27</th>\n",
       "      <th>V28</th>\n",
       "      <th>Amount</th>\n",
       "    </tr>\n",
       "  </thead>\n",
       "  <tbody>\n",
       "    <tr>\n",
       "      <th>210581</th>\n",
       "      <td>138047.0</td>\n",
       "      <td>2.017727</td>\n",
       "      <td>0.017121</td>\n",
       "      <td>-3.413577</td>\n",
       "      <td>0.129556</td>\n",
       "      <td>3.141497</td>\n",
       "      <td>2.988440</td>\n",
       "      <td>0.274226</td>\n",
       "      <td>0.545435</td>\n",
       "      <td>-0.357127</td>\n",
       "      <td>...</td>\n",
       "      <td>-0.162430</td>\n",
       "      <td>0.185227</td>\n",
       "      <td>0.486681</td>\n",
       "      <td>-0.045034</td>\n",
       "      <td>0.713508</td>\n",
       "      <td>0.591599</td>\n",
       "      <td>-0.397269</td>\n",
       "      <td>-0.023108</td>\n",
       "      <td>-0.069086</td>\n",
       "      <td>29.00</td>\n",
       "    </tr>\n",
       "    <tr>\n",
       "      <th>143522</th>\n",
       "      <td>85413.0</td>\n",
       "      <td>-0.732291</td>\n",
       "      <td>0.428800</td>\n",
       "      <td>1.352302</td>\n",
       "      <td>1.968162</td>\n",
       "      <td>0.042705</td>\n",
       "      <td>-0.187739</td>\n",
       "      <td>0.372123</td>\n",
       "      <td>0.065935</td>\n",
       "      <td>-0.172564</td>\n",
       "      <td>...</td>\n",
       "      <td>0.130812</td>\n",
       "      <td>-0.062700</td>\n",
       "      <td>0.248215</td>\n",
       "      <td>0.277902</td>\n",
       "      <td>0.415808</td>\n",
       "      <td>0.128268</td>\n",
       "      <td>-0.099448</td>\n",
       "      <td>0.253580</td>\n",
       "      <td>0.066062</td>\n",
       "      <td>42.46</td>\n",
       "    </tr>\n",
       "    <tr>\n",
       "      <th>268921</th>\n",
       "      <td>163447.0</td>\n",
       "      <td>-2.327241</td>\n",
       "      <td>2.668910</td>\n",
       "      <td>-2.099484</td>\n",
       "      <td>-1.626744</td>\n",
       "      <td>0.433479</td>\n",
       "      <td>-1.473417</td>\n",
       "      <td>1.155932</td>\n",
       "      <td>0.230516</td>\n",
       "      <td>1.042926</td>\n",
       "      <td>...</td>\n",
       "      <td>0.804108</td>\n",
       "      <td>0.002006</td>\n",
       "      <td>0.723414</td>\n",
       "      <td>-0.177009</td>\n",
       "      <td>-0.350705</td>\n",
       "      <td>0.062770</td>\n",
       "      <td>0.076346</td>\n",
       "      <td>0.639344</td>\n",
       "      <td>0.186213</td>\n",
       "      <td>7.69</td>\n",
       "    </tr>\n",
       "    <tr>\n",
       "      <th>175756</th>\n",
       "      <td>122475.0</td>\n",
       "      <td>0.006232</td>\n",
       "      <td>0.210789</td>\n",
       "      <td>-0.144016</td>\n",
       "      <td>-1.787978</td>\n",
       "      <td>0.255121</td>\n",
       "      <td>-0.442873</td>\n",
       "      <td>0.325925</td>\n",
       "      <td>-0.030433</td>\n",
       "      <td>-0.854257</td>\n",
       "      <td>...</td>\n",
       "      <td>0.348183</td>\n",
       "      <td>0.136468</td>\n",
       "      <td>0.422746</td>\n",
       "      <td>-0.004471</td>\n",
       "      <td>0.325957</td>\n",
       "      <td>-0.175310</td>\n",
       "      <td>-0.260637</td>\n",
       "      <td>0.313132</td>\n",
       "      <td>0.151091</td>\n",
       "      <td>51.85</td>\n",
       "    </tr>\n",
       "    <tr>\n",
       "      <th>191118</th>\n",
       "      <td>129121.0</td>\n",
       "      <td>-0.053732</td>\n",
       "      <td>0.108751</td>\n",
       "      <td>-0.403769</td>\n",
       "      <td>-1.165569</td>\n",
       "      <td>1.596338</td>\n",
       "      <td>1.549872</td>\n",
       "      <td>0.712659</td>\n",
       "      <td>0.032969</td>\n",
       "      <td>-1.670364</td>\n",
       "      <td>...</td>\n",
       "      <td>-0.418418</td>\n",
       "      <td>-0.207382</td>\n",
       "      <td>0.229729</td>\n",
       "      <td>-0.180769</td>\n",
       "      <td>-0.908495</td>\n",
       "      <td>-0.545441</td>\n",
       "      <td>0.746555</td>\n",
       "      <td>-0.114634</td>\n",
       "      <td>-0.070923</td>\n",
       "      <td>25.00</td>\n",
       "    </tr>\n",
       "    <tr>\n",
       "      <th>...</th>\n",
       "      <td>...</td>\n",
       "      <td>...</td>\n",
       "      <td>...</td>\n",
       "      <td>...</td>\n",
       "      <td>...</td>\n",
       "      <td>...</td>\n",
       "      <td>...</td>\n",
       "      <td>...</td>\n",
       "      <td>...</td>\n",
       "      <td>...</td>\n",
       "      <td>...</td>\n",
       "      <td>...</td>\n",
       "      <td>...</td>\n",
       "      <td>...</td>\n",
       "      <td>...</td>\n",
       "      <td>...</td>\n",
       "      <td>...</td>\n",
       "      <td>...</td>\n",
       "      <td>...</td>\n",
       "      <td>...</td>\n",
       "      <td>...</td>\n",
       "    </tr>\n",
       "    <tr>\n",
       "      <th>279863</th>\n",
       "      <td>169142.0</td>\n",
       "      <td>-1.927883</td>\n",
       "      <td>1.125653</td>\n",
       "      <td>-4.518331</td>\n",
       "      <td>1.749293</td>\n",
       "      <td>-1.566487</td>\n",
       "      <td>-2.010494</td>\n",
       "      <td>-0.882850</td>\n",
       "      <td>0.697211</td>\n",
       "      <td>-2.064945</td>\n",
       "      <td>...</td>\n",
       "      <td>1.252967</td>\n",
       "      <td>0.778584</td>\n",
       "      <td>-0.319189</td>\n",
       "      <td>0.639419</td>\n",
       "      <td>-0.294885</td>\n",
       "      <td>0.537503</td>\n",
       "      <td>0.788395</td>\n",
       "      <td>0.292680</td>\n",
       "      <td>0.147968</td>\n",
       "      <td>390.00</td>\n",
       "    </tr>\n",
       "    <tr>\n",
       "      <th>280143</th>\n",
       "      <td>169347.0</td>\n",
       "      <td>1.378559</td>\n",
       "      <td>1.289381</td>\n",
       "      <td>-5.004247</td>\n",
       "      <td>1.411850</td>\n",
       "      <td>0.442581</td>\n",
       "      <td>-1.326536</td>\n",
       "      <td>-1.413170</td>\n",
       "      <td>0.248525</td>\n",
       "      <td>-1.127396</td>\n",
       "      <td>...</td>\n",
       "      <td>0.226138</td>\n",
       "      <td>0.370612</td>\n",
       "      <td>0.028234</td>\n",
       "      <td>-0.145640</td>\n",
       "      <td>-0.081049</td>\n",
       "      <td>0.521875</td>\n",
       "      <td>0.739467</td>\n",
       "      <td>0.389152</td>\n",
       "      <td>0.186637</td>\n",
       "      <td>0.76</td>\n",
       "    </tr>\n",
       "    <tr>\n",
       "      <th>280149</th>\n",
       "      <td>169351.0</td>\n",
       "      <td>-0.676143</td>\n",
       "      <td>1.126366</td>\n",
       "      <td>-2.213700</td>\n",
       "      <td>0.468308</td>\n",
       "      <td>-1.120541</td>\n",
       "      <td>-0.003346</td>\n",
       "      <td>-2.234739</td>\n",
       "      <td>1.210158</td>\n",
       "      <td>-0.652250</td>\n",
       "      <td>...</td>\n",
       "      <td>0.247968</td>\n",
       "      <td>0.751826</td>\n",
       "      <td>0.834108</td>\n",
       "      <td>0.190944</td>\n",
       "      <td>0.032070</td>\n",
       "      <td>-0.739695</td>\n",
       "      <td>0.471111</td>\n",
       "      <td>0.385107</td>\n",
       "      <td>0.194361</td>\n",
       "      <td>77.89</td>\n",
       "    </tr>\n",
       "    <tr>\n",
       "      <th>281144</th>\n",
       "      <td>169966.0</td>\n",
       "      <td>-3.113832</td>\n",
       "      <td>0.585864</td>\n",
       "      <td>-5.399730</td>\n",
       "      <td>1.817092</td>\n",
       "      <td>-0.840618</td>\n",
       "      <td>-2.943548</td>\n",
       "      <td>-2.208002</td>\n",
       "      <td>1.058733</td>\n",
       "      <td>-1.632333</td>\n",
       "      <td>...</td>\n",
       "      <td>0.306271</td>\n",
       "      <td>0.583276</td>\n",
       "      <td>-0.269209</td>\n",
       "      <td>-0.456108</td>\n",
       "      <td>-0.183659</td>\n",
       "      <td>-0.328168</td>\n",
       "      <td>0.606116</td>\n",
       "      <td>0.884876</td>\n",
       "      <td>-0.253700</td>\n",
       "      <td>245.00</td>\n",
       "    </tr>\n",
       "    <tr>\n",
       "      <th>281674</th>\n",
       "      <td>170348.0</td>\n",
       "      <td>1.991976</td>\n",
       "      <td>0.158476</td>\n",
       "      <td>-2.583441</td>\n",
       "      <td>0.408670</td>\n",
       "      <td>1.151147</td>\n",
       "      <td>-0.096695</td>\n",
       "      <td>0.223050</td>\n",
       "      <td>-0.068384</td>\n",
       "      <td>0.577829</td>\n",
       "      <td>...</td>\n",
       "      <td>-0.017652</td>\n",
       "      <td>-0.164350</td>\n",
       "      <td>-0.295135</td>\n",
       "      <td>-0.072173</td>\n",
       "      <td>-0.450261</td>\n",
       "      <td>0.313267</td>\n",
       "      <td>-0.289617</td>\n",
       "      <td>0.002988</td>\n",
       "      <td>-0.015309</td>\n",
       "      <td>42.53</td>\n",
       "    </tr>\n",
       "  </tbody>\n",
       "</table>\n",
       "<p>984 rows × 30 columns</p>\n",
       "</div>"
      ],
      "text/plain": [
       "            Time        V1        V2        V3        V4        V5        V6  \\\n",
       "210581  138047.0  2.017727  0.017121 -3.413577  0.129556  3.141497  2.988440   \n",
       "143522   85413.0 -0.732291  0.428800  1.352302  1.968162  0.042705 -0.187739   \n",
       "268921  163447.0 -2.327241  2.668910 -2.099484 -1.626744  0.433479 -1.473417   \n",
       "175756  122475.0  0.006232  0.210789 -0.144016 -1.787978  0.255121 -0.442873   \n",
       "191118  129121.0 -0.053732  0.108751 -0.403769 -1.165569  1.596338  1.549872   \n",
       "...          ...       ...       ...       ...       ...       ...       ...   \n",
       "279863  169142.0 -1.927883  1.125653 -4.518331  1.749293 -1.566487 -2.010494   \n",
       "280143  169347.0  1.378559  1.289381 -5.004247  1.411850  0.442581 -1.326536   \n",
       "280149  169351.0 -0.676143  1.126366 -2.213700  0.468308 -1.120541 -0.003346   \n",
       "281144  169966.0 -3.113832  0.585864 -5.399730  1.817092 -0.840618 -2.943548   \n",
       "281674  170348.0  1.991976  0.158476 -2.583441  0.408670  1.151147 -0.096695   \n",
       "\n",
       "              V7        V8        V9  ...       V20       V21       V22  \\\n",
       "210581  0.274226  0.545435 -0.357127  ... -0.162430  0.185227  0.486681   \n",
       "143522  0.372123  0.065935 -0.172564  ...  0.130812 -0.062700  0.248215   \n",
       "268921  1.155932  0.230516  1.042926  ...  0.804108  0.002006  0.723414   \n",
       "175756  0.325925 -0.030433 -0.854257  ...  0.348183  0.136468  0.422746   \n",
       "191118  0.712659  0.032969 -1.670364  ... -0.418418 -0.207382  0.229729   \n",
       "...          ...       ...       ...  ...       ...       ...       ...   \n",
       "279863 -0.882850  0.697211 -2.064945  ...  1.252967  0.778584 -0.319189   \n",
       "280143 -1.413170  0.248525 -1.127396  ...  0.226138  0.370612  0.028234   \n",
       "280149 -2.234739  1.210158 -0.652250  ...  0.247968  0.751826  0.834108   \n",
       "281144 -2.208002  1.058733 -1.632333  ...  0.306271  0.583276 -0.269209   \n",
       "281674  0.223050 -0.068384  0.577829  ... -0.017652 -0.164350 -0.295135   \n",
       "\n",
       "             V23       V24       V25       V26       V27       V28  Amount  \n",
       "210581 -0.045034  0.713508  0.591599 -0.397269 -0.023108 -0.069086   29.00  \n",
       "143522  0.277902  0.415808  0.128268 -0.099448  0.253580  0.066062   42.46  \n",
       "268921 -0.177009 -0.350705  0.062770  0.076346  0.639344  0.186213    7.69  \n",
       "175756 -0.004471  0.325957 -0.175310 -0.260637  0.313132  0.151091   51.85  \n",
       "191118 -0.180769 -0.908495 -0.545441  0.746555 -0.114634 -0.070923   25.00  \n",
       "...          ...       ...       ...       ...       ...       ...     ...  \n",
       "279863  0.639419 -0.294885  0.537503  0.788395  0.292680  0.147968  390.00  \n",
       "280143 -0.145640 -0.081049  0.521875  0.739467  0.389152  0.186637    0.76  \n",
       "280149  0.190944  0.032070 -0.739695  0.471111  0.385107  0.194361   77.89  \n",
       "281144 -0.456108 -0.183659 -0.328168  0.606116  0.884876 -0.253700  245.00  \n",
       "281674 -0.072173 -0.450261  0.313267 -0.289617  0.002988 -0.015309   42.53  \n",
       "\n",
       "[984 rows x 30 columns]"
      ]
     },
     "execution_count": 21,
     "metadata": {},
     "output_type": "execute_result"
    }
   ],
   "source": [
    "X"
   ]
  },
  {
   "cell_type": "code",
   "execution_count": 22,
   "id": "e6d8a808",
   "metadata": {
    "execution": {
     "iopub.execute_input": "2022-01-11T18:08:54.850684Z",
     "iopub.status.busy": "2022-01-11T18:08:54.848058Z",
     "iopub.status.idle": "2022-01-11T18:08:54.854775Z",
     "shell.execute_reply": "2022-01-11T18:08:54.855327Z",
     "shell.execute_reply.started": "2022-01-11T18:03:37.044438Z"
    },
    "papermill": {
     "duration": 0.058119,
     "end_time": "2022-01-11T18:08:54.855507",
     "exception": false,
     "start_time": "2022-01-11T18:08:54.797388",
     "status": "completed"
    },
    "tags": []
   },
   "outputs": [
    {
     "data": {
      "text/plain": [
       "210581    0\n",
       "143522    0\n",
       "268921    0\n",
       "175756    0\n",
       "191118    0\n",
       "         ..\n",
       "279863    1\n",
       "280143    1\n",
       "280149    1\n",
       "281144    1\n",
       "281674    1\n",
       "Name: Class, Length: 984, dtype: int64"
      ]
     },
     "execution_count": 22,
     "metadata": {},
     "output_type": "execute_result"
    }
   ],
   "source": [
    "Y"
   ]
  },
  {
   "cell_type": "markdown",
   "id": "c22c7d2a",
   "metadata": {
    "papermill": {
     "duration": 0.048364,
     "end_time": "2022-01-11T18:08:54.953541",
     "exception": false,
     "start_time": "2022-01-11T18:08:54.905177",
     "status": "completed"
    },
    "tags": []
   },
   "source": [
    "# **4. Spliting the data into train and test data**"
   ]
  },
  {
   "cell_type": "code",
   "execution_count": 23,
   "id": "00db4c39",
   "metadata": {
    "execution": {
     "iopub.execute_input": "2022-01-11T18:08:55.054570Z",
     "iopub.status.busy": "2022-01-11T18:08:55.053935Z",
     "iopub.status.idle": "2022-01-11T18:08:55.063355Z",
     "shell.execute_reply": "2022-01-11T18:08:55.063924Z",
     "shell.execute_reply.started": "2022-01-11T18:03:37.052000Z"
    },
    "papermill": {
     "duration": 0.061217,
     "end_time": "2022-01-11T18:08:55.064092",
     "exception": false,
     "start_time": "2022-01-11T18:08:55.002875",
     "status": "completed"
    },
    "tags": []
   },
   "outputs": [],
   "source": [
    "# 20% of the data will be taken for the Testing and 80% of the data will be taken for the Training\n",
    "\n",
    "X_train,X_test,Y_train,Y_test = train_test_split(X, Y, test_size=0.2, stratify=Y, random_state=2)"
   ]
  },
  {
   "cell_type": "code",
   "execution_count": 24,
   "id": "fe2d2f23",
   "metadata": {
    "execution": {
     "iopub.execute_input": "2022-01-11T18:08:55.163897Z",
     "iopub.status.busy": "2022-01-11T18:08:55.163189Z",
     "iopub.status.idle": "2022-01-11T18:08:55.169266Z",
     "shell.execute_reply": "2022-01-11T18:08:55.169729Z",
     "shell.execute_reply.started": "2022-01-11T18:03:37.064784Z"
    },
    "papermill": {
     "duration": 0.057603,
     "end_time": "2022-01-11T18:08:55.169937",
     "exception": false,
     "start_time": "2022-01-11T18:08:55.112334",
     "status": "completed"
    },
    "tags": []
   },
   "outputs": [
    {
     "name": "stdout",
     "output_type": "stream",
     "text": [
      "(984, 30) (787, 30) (197, 30)\n"
     ]
    }
   ],
   "source": [
    "print(X.shape, X_train.shape, X_test.shape)"
   ]
  },
  {
   "cell_type": "markdown",
   "id": "c4a2d21f",
   "metadata": {
    "papermill": {
     "duration": 0.048731,
     "end_time": "2022-01-11T18:08:55.267939",
     "exception": false,
     "start_time": "2022-01-11T18:08:55.219208",
     "status": "completed"
    },
    "tags": []
   },
   "source": [
    "# **5. Model Training**"
   ]
  },
  {
   "cell_type": "markdown",
   "id": "774c2f28",
   "metadata": {
    "papermill": {
     "duration": 0.048662,
     "end_time": "2022-01-11T18:08:55.365761",
     "exception": false,
     "start_time": "2022-01-11T18:08:55.317099",
     "status": "completed"
    },
    "tags": []
   },
   "source": [
    "### **Using Logistic Regression**"
   ]
  },
  {
   "cell_type": "code",
   "execution_count": 25,
   "id": "86ea6bb8",
   "metadata": {
    "execution": {
     "iopub.execute_input": "2022-01-11T18:08:55.469997Z",
     "iopub.status.busy": "2022-01-11T18:08:55.469288Z",
     "iopub.status.idle": "2022-01-11T18:08:55.472586Z",
     "shell.execute_reply": "2022-01-11T18:08:55.471903Z",
     "shell.execute_reply.started": "2022-01-11T18:03:37.074815Z"
    },
    "papermill": {
     "duration": 0.057919,
     "end_time": "2022-01-11T18:08:55.472736",
     "exception": false,
     "start_time": "2022-01-11T18:08:55.414817",
     "status": "completed"
    },
    "tags": []
   },
   "outputs": [],
   "source": [
    "# Defining Logistic Regression into a variable\n",
    "\n",
    "model = LogisticRegression()"
   ]
  },
  {
   "cell_type": "markdown",
   "id": "400a653a",
   "metadata": {
    "papermill": {
     "duration": 0.048258,
     "end_time": "2022-01-11T18:08:55.570330",
     "exception": false,
     "start_time": "2022-01-11T18:08:55.522072",
     "status": "completed"
    },
    "tags": []
   },
   "source": [
    "**Training the Logistic Regression model with training data**"
   ]
  },
  {
   "cell_type": "code",
   "execution_count": 26,
   "id": "347b7d7e",
   "metadata": {
    "execution": {
     "iopub.execute_input": "2022-01-11T18:08:55.678119Z",
     "iopub.status.busy": "2022-01-11T18:08:55.677431Z",
     "iopub.status.idle": "2022-01-11T18:08:55.737192Z",
     "shell.execute_reply": "2022-01-11T18:08:55.738083Z",
     "shell.execute_reply.started": "2022-01-11T18:03:37.086755Z"
    },
    "papermill": {
     "duration": 0.117789,
     "end_time": "2022-01-11T18:08:55.738398",
     "exception": false,
     "start_time": "2022-01-11T18:08:55.620609",
     "status": "completed"
    },
    "tags": []
   },
   "outputs": [
    {
     "data": {
      "text/plain": [
       "LogisticRegression()"
      ]
     },
     "execution_count": 26,
     "metadata": {},
     "output_type": "execute_result"
    }
   ],
   "source": [
    "# Fitting the train dataset into the model for Training\n",
    "\n",
    "model.fit(X_train,Y_train)"
   ]
  },
  {
   "cell_type": "markdown",
   "id": "de0b58a3",
   "metadata": {
    "papermill": {
     "duration": 0.063231,
     "end_time": "2022-01-11T18:08:55.893305",
     "exception": false,
     "start_time": "2022-01-11T18:08:55.830074",
     "status": "completed"
    },
    "tags": []
   },
   "source": [
    "# **6. Model Evaluation**"
   ]
  },
  {
   "cell_type": "markdown",
   "id": "8edfa6f1",
   "metadata": {
    "papermill": {
     "duration": 0.059245,
     "end_time": "2022-01-11T18:08:56.012082",
     "exception": false,
     "start_time": "2022-01-11T18:08:55.952837",
     "status": "completed"
    },
    "tags": []
   },
   "source": [
    "### **Accuracy Score**"
   ]
  },
  {
   "cell_type": "code",
   "execution_count": 27,
   "id": "1af827be",
   "metadata": {
    "execution": {
     "iopub.execute_input": "2022-01-11T18:08:56.123011Z",
     "iopub.status.busy": "2022-01-11T18:08:56.121499Z",
     "iopub.status.idle": "2022-01-11T18:08:56.126971Z",
     "shell.execute_reply": "2022-01-11T18:08:56.127822Z",
     "shell.execute_reply.started": "2022-01-11T18:03:37.148952Z"
    },
    "papermill": {
     "duration": 0.065464,
     "end_time": "2022-01-11T18:08:56.128155",
     "exception": false,
     "start_time": "2022-01-11T18:08:56.062691",
     "status": "completed"
    },
    "tags": []
   },
   "outputs": [],
   "source": [
    "# Accuracy on training data\n",
    "\n",
    "X_train_prediction = model.predict(X_train)\n",
    "training_data_accuracy = accuracy_score(X_train_prediction,Y_train)"
   ]
  },
  {
   "cell_type": "code",
   "execution_count": 28,
   "id": "3e2f5459",
   "metadata": {
    "execution": {
     "iopub.execute_input": "2022-01-11T18:08:56.288689Z",
     "iopub.status.busy": "2022-01-11T18:08:56.287683Z",
     "iopub.status.idle": "2022-01-11T18:08:56.293572Z",
     "shell.execute_reply": "2022-01-11T18:08:56.294101Z",
     "shell.execute_reply.started": "2022-01-11T18:03:37.165983Z"
    },
    "papermill": {
     "duration": 0.070773,
     "end_time": "2022-01-11T18:08:56.294324",
     "exception": false,
     "start_time": "2022-01-11T18:08:56.223551",
     "status": "completed"
    },
    "tags": []
   },
   "outputs": [],
   "source": [
    "# Accuracy on test data\n",
    "\n",
    "X_test_prediction = model.predict(X_test)\n",
    "test_data_accuracy = accuracy_score(X_test_prediction,Y_test)"
   ]
  },
  {
   "cell_type": "code",
   "execution_count": 29,
   "id": "09f9c3c5",
   "metadata": {
    "execution": {
     "iopub.execute_input": "2022-01-11T18:08:56.397434Z",
     "iopub.status.busy": "2022-01-11T18:08:56.396715Z",
     "iopub.status.idle": "2022-01-11T18:08:56.401880Z",
     "shell.execute_reply": "2022-01-11T18:08:56.402349Z",
     "shell.execute_reply.started": "2022-01-11T18:03:37.182820Z"
    },
    "papermill": {
     "duration": 0.058823,
     "end_time": "2022-01-11T18:08:56.402542",
     "exception": false,
     "start_time": "2022-01-11T18:08:56.343719",
     "status": "completed"
    },
    "tags": []
   },
   "outputs": [
    {
     "name": "stdout",
     "output_type": "stream",
     "text": [
      "Accuracy on Training Data:  0.9301143583227446\n",
      "Accuracy on Test Data:  0.868020304568528\n"
     ]
    }
   ],
   "source": [
    "print('Accuracy on Training Data: ',training_data_accuracy)\n",
    "print('Accuracy on Test Data: ',test_data_accuracy)"
   ]
  },
  {
   "cell_type": "markdown",
   "id": "49c34a0f",
   "metadata": {
    "papermill": {
     "duration": 0.048923,
     "end_time": "2022-01-11T18:08:56.599775",
     "exception": false,
     "start_time": "2022-01-11T18:08:56.550852",
     "status": "completed"
    },
    "tags": []
   },
   "source": [
    "\n",
    "\n",
    "This model which used for checking whether a transaction is Fraud or not,accuractely predicts till the 93rd Percentile.\n"
   ]
  },
  {
   "cell_type": "code",
   "execution_count": null,
   "id": "a9117a74",
   "metadata": {},
   "outputs": [],
   "source": []
  }
 ],
 "metadata": {
  "kernelspec": {
   "display_name": "Python 3",
   "language": "python",
   "name": "python3"
  },
  "language_info": {
   "codemirror_mode": {
    "name": "ipython",
    "version": 3
   },
   "file_extension": ".py",
   "mimetype": "text/x-python",
   "name": "python",
   "nbconvert_exporter": "python",
   "pygments_lexer": "ipython3",
   "version": "3.8.8"
  },
  "papermill": {
   "default_parameters": {},
   "duration": 23.230873,
   "end_time": "2022-01-11T18:08:57.460587",
   "environment_variables": {},
   "exception": null,
   "input_path": "__notebook__.ipynb",
   "output_path": "__notebook__.ipynb",
   "parameters": {},
   "start_time": "2022-01-11T18:08:34.229714",
   "version": "2.3.3"
  }
 },
 "nbformat": 4,
 "nbformat_minor": 5
}
